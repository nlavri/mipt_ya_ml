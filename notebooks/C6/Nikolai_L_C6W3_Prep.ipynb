{
 "cells": [
  {
   "cell_type": "code",
   "execution_count": 5,
   "metadata": {},
   "outputs": [
    {
     "name": "stdout",
     "output_type": "stream",
     "text": [
      "Populating the interactive namespace from numpy and matplotlib\n"
     ]
    }
   ],
   "source": [
    "import numpy as np\n",
    "import pandas as pd\n",
    "from matplotlib import pyplot as plt\n",
    "import datetime\n",
    "import scipy\n",
    "from scipy.stats import binned_statistic_2d\n",
    "from sklearn import cross_validation, datasets, linear_model, metrics\n",
    "#import mlpy\n",
    "#import statsmodels.formula.api as smf\n",
    "#import statsmodels.stats.api as sms\n",
    "#from statsmodels.graphics.regressionplots import plot_leverage_resid2\n",
    "%matplotlib inline\n",
    "%pylab inline\n"
   ]
  },
  {
   "cell_type": "code",
   "execution_count": 6,
   "metadata": {},
   "outputs": [
    {
     "name": "stdout",
     "output_type": "stream",
     "text": [
      "Reading  TaxiData/yellow_tripdata_2016-06.csv\n",
      "Read frame of shape  (11135470, 6)\n",
      "Total  (11135470, 6) \n",
      "\n",
      "Reading  TaxiData/yellow_tripdata_2016-05.csv\n",
      "Read frame of shape  (11836853, 6)\n",
      "Total  (22972323, 6) \n",
      "\n",
      "Reading  TaxiData/yellow_tripdata_2016-04.csv\n",
      "Read frame of shape  (11934338, 6)\n",
      "Total  (34906661, 6) \n",
      "\n",
      "Reading  TaxiData/yellow_tripdata_2016-03.csv\n",
      "Read frame of shape  (12210952, 6)\n",
      "Total  (47117613, 6) \n",
      "\n",
      "Reading  TaxiData/yellow_tripdata_2016-02.csv\n",
      "Read frame of shape  (11382049, 6)\n",
      "Total  (58499662, 6) \n",
      "\n",
      "Reading  TaxiData/yellow_tripdata_2016-01.csv\n",
      "Read frame of shape  (10906858, 6)\n",
      "Total  (69406520, 6) \n",
      "\n"
     ]
    }
   ],
   "source": [
    "dates = ['tpep_pickup_datetime', 'tpep_dropoff_datetime']\n",
    "\n",
    "cols_to_use = ['tpep_pickup_datetime', \n",
    "               'tpep_dropoff_datetime',\n",
    "               'passenger_count',\n",
    "               'trip_distance',\n",
    "               'pickup_longitude', \n",
    "               'pickup_latitude',\n",
    "               #'dropoff_longitude',\n",
    "               #'dropoff_latitude'\n",
    "              ]\n",
    "\n",
    "files = [\n",
    "        'TaxiData/yellow_tripdata_2016-06.csv', \n",
    "        'TaxiData/yellow_tripdata_2016-05.csv', \n",
    "        'TaxiData/yellow_tripdata_2016-04.csv', \n",
    "        'TaxiData/yellow_tripdata_2016-03.csv', \n",
    "        'TaxiData/yellow_tripdata_2016-02.csv', \n",
    "        'TaxiData/yellow_tripdata_2016-01.csv', \n",
    "        #'TaxiData/yellow_tripdata_2015-12.csv', \n",
    "        #'TaxiData/yellow_tripdata_2015-11.csv', \n",
    "        #'TaxiData/yellow_tripdata_2015-10.csv', \n",
    "        #'TaxiData/yellow_tripdata_2015-09.csv', \n",
    "        #'TaxiData/yellow_tripdata_2015-08.csv', \n",
    "        #'TaxiData/yellow_tripdata_2015-07.csv', \n",
    "        #'TaxiData/yellow_tripdata_2015-06.csv', \n",
    "        #'TaxiData/yellow_tripdata_2015-05.csv', \n",
    "        #'TaxiData/yellow_tripdata_2015-04.csv', \n",
    "        #'TaxiData/yellow_tripdata_2015-03.csv', \n",
    "        #'TaxiData/yellow_tripdata_2015-02.csv', \n",
    "        #'TaxiData/yellow_tripdata_2015-01.csv'\n",
    "        ]\n",
    "\n",
    "data = pd.DataFrame()\n",
    "\n",
    "for f in files:\n",
    "    print 'Reading ', f\n",
    "    f_frame = pd.read_csv(f, delimiter=',', usecols=cols_to_use, parse_dates=dates)\n",
    "    print 'Read frame of shape ', f_frame.shape\n",
    "    data = pd.concat([data, f_frame])\n",
    "    del f_frame\n",
    "    print 'Total ', data.shape, '\\r\\n'"
   ]
  },
  {
   "cell_type": "code",
   "execution_count": 7,
   "metadata": {},
   "outputs": [
    {
     "name": "stdout",
     "output_type": "stream",
     "text": [
      "False\n"
     ]
    },
    {
     "data": {
      "text/plain": [
       "(68057766, 6)"
      ]
     },
     "execution_count": 7,
     "metadata": {},
     "output_type": "execute_result"
    }
   ],
   "source": [
    "#На всякий случай проверяем пустые значения\n",
    "print data.isnull().values.any()\n",
    "\n",
    "#Задаем границы \n",
    "long_min = -74.25559\n",
    "long_max = -73.70001 \n",
    "lat_min = 40.49612\n",
    "lat_max = 40.91553\n",
    "\n",
    "#Фильтруем данные по границам, длительности, кол-ву пассажиров, длине поездки.\n",
    "zero_delta = datetime.timedelta(seconds=0)\n",
    "\n",
    "data = data[((data.tpep_dropoff_datetime - data.tpep_pickup_datetime) > zero_delta) \n",
    "                     & (data.passenger_count > 0) \n",
    "                     & (data.trip_distance > 0)\n",
    "                     & (long_min <= data.pickup_longitude)\n",
    "                     & (data.pickup_longitude <= long_max)\n",
    "                     & (lat_min <= data.pickup_latitude)\n",
    "                     & (data.pickup_latitude <= lat_max)\n",
    "             ]\n",
    "\n",
    "data.shape"
   ]
  },
  {
   "cell_type": "code",
   "execution_count": 8,
   "metadata": {},
   "outputs": [],
   "source": [
    "#data.to_hdf\n",
    "#data = data.drop(['dropoff_latitude', 'dropoff_longitude'], axis=1)\n",
    "#print data.shape\n",
    "#rint pd.__version__"
   ]
  },
  {
   "cell_type": "code",
   "execution_count": 9,
   "metadata": {},
   "outputs": [
    {
     "name": "stdout",
     "output_type": "stream",
     "text": [
      "Wall time: 20.7 s\n"
     ]
    }
   ],
   "source": [
    "%%time\n",
    "#Получаем регионы для каждой поездки (в виде индексов бинов по двум осям)\n",
    "stat, x_edge , y_edge, binnumber = binned_statistic_2d(data.pickup_longitude, \n",
    "                                                       data.pickup_latitude, \n",
    "                                                       None,\n",
    "                                                       statistic='count',\n",
    "                                                       bins=50, \n",
    "                                                       range=[[long_min, long_max], [lat_min, lat_max]],\n",
    "                                                       expand_binnumbers=True,)"
   ]
  },
  {
   "cell_type": "code",
   "execution_count": 10,
   "metadata": {},
   "outputs": [],
   "source": [
    "#%%time\n",
    "#Записываем регионы для каждой позедки в виде одномерного индекса по формуле (x - 1) * 50 + y\n",
    "data['region'] = (binnumber[0] - 1) * 50 + binnumber[1]"
   ]
  },
  {
   "cell_type": "code",
   "execution_count": 11,
   "metadata": {},
   "outputs": [
    {
     "data": {
      "text/html": [
       "<div>\n",
       "<style scoped>\n",
       "    .dataframe tbody tr th:only-of-type {\n",
       "        vertical-align: middle;\n",
       "    }\n",
       "\n",
       "    .dataframe tbody tr th {\n",
       "        vertical-align: top;\n",
       "    }\n",
       "\n",
       "    .dataframe thead th {\n",
       "        text-align: right;\n",
       "    }\n",
       "</style>\n",
       "<table border=\"1\" class=\"dataframe\">\n",
       "  <thead>\n",
       "    <tr style=\"text-align: right;\">\n",
       "      <th></th>\n",
       "      <th>tpep_pickup_datetime</th>\n",
       "      <th>tpep_dropoff_datetime</th>\n",
       "      <th>passenger_count</th>\n",
       "      <th>trip_distance</th>\n",
       "      <th>pickup_longitude</th>\n",
       "      <th>pickup_latitude</th>\n",
       "      <th>region</th>\n",
       "    </tr>\n",
       "  </thead>\n",
       "  <tbody>\n",
       "    <tr>\n",
       "      <th>0</th>\n",
       "      <td>2016-06-09 21:06:36</td>\n",
       "      <td>2016-06-09 21:13:08</td>\n",
       "      <td>2</td>\n",
       "      <td>0.79</td>\n",
       "      <td>-73.983360</td>\n",
       "      <td>40.760937</td>\n",
       "      <td>1232</td>\n",
       "    </tr>\n",
       "    <tr>\n",
       "      <th>1</th>\n",
       "      <td>2016-06-09 21:06:36</td>\n",
       "      <td>2016-06-09 21:35:11</td>\n",
       "      <td>1</td>\n",
       "      <td>5.22</td>\n",
       "      <td>-73.981720</td>\n",
       "      <td>40.736668</td>\n",
       "      <td>1229</td>\n",
       "    </tr>\n",
       "    <tr>\n",
       "      <th>2</th>\n",
       "      <td>2016-06-09 21:06:36</td>\n",
       "      <td>2016-06-09 21:13:10</td>\n",
       "      <td>1</td>\n",
       "      <td>1.26</td>\n",
       "      <td>-73.994316</td>\n",
       "      <td>40.751072</td>\n",
       "      <td>1181</td>\n",
       "    </tr>\n",
       "    <tr>\n",
       "      <th>3</th>\n",
       "      <td>2016-06-09 21:06:36</td>\n",
       "      <td>2016-06-09 21:36:10</td>\n",
       "      <td>1</td>\n",
       "      <td>7.39</td>\n",
       "      <td>-73.982361</td>\n",
       "      <td>40.773891</td>\n",
       "      <td>1234</td>\n",
       "    </tr>\n",
       "    <tr>\n",
       "      <th>4</th>\n",
       "      <td>2016-06-09 21:06:36</td>\n",
       "      <td>2016-06-09 21:23:23</td>\n",
       "      <td>1</td>\n",
       "      <td>3.10</td>\n",
       "      <td>-73.987106</td>\n",
       "      <td>40.733173</td>\n",
       "      <td>1229</td>\n",
       "    </tr>\n",
       "  </tbody>\n",
       "</table>\n",
       "</div>"
      ],
      "text/plain": [
       "  tpep_pickup_datetime tpep_dropoff_datetime  passenger_count  trip_distance  \\\n",
       "0  2016-06-09 21:06:36   2016-06-09 21:13:08                2           0.79   \n",
       "1  2016-06-09 21:06:36   2016-06-09 21:35:11                1           5.22   \n",
       "2  2016-06-09 21:06:36   2016-06-09 21:13:10                1           1.26   \n",
       "3  2016-06-09 21:06:36   2016-06-09 21:36:10                1           7.39   \n",
       "4  2016-06-09 21:06:36   2016-06-09 21:23:23                1           3.10   \n",
       "\n",
       "   pickup_longitude  pickup_latitude  region  \n",
       "0        -73.983360        40.760937    1232  \n",
       "1        -73.981720        40.736668    1229  \n",
       "2        -73.994316        40.751072    1181  \n",
       "3        -73.982361        40.773891    1234  \n",
       "4        -73.987106        40.733173    1229  "
      ]
     },
     "execution_count": 11,
     "metadata": {},
     "output_type": "execute_result"
    }
   ],
   "source": [
    "data.head()"
   ]
  },
  {
   "cell_type": "code",
   "execution_count": 12,
   "metadata": {},
   "outputs": [
    {
     "data": {
      "text/html": [
       "<div>\n",
       "<style scoped>\n",
       "    .dataframe tbody tr th:only-of-type {\n",
       "        vertical-align: middle;\n",
       "    }\n",
       "\n",
       "    .dataframe tbody tr th {\n",
       "        vertical-align: top;\n",
       "    }\n",
       "\n",
       "    .dataframe thead th {\n",
       "        text-align: right;\n",
       "    }\n",
       "</style>\n",
       "<table border=\"1\" class=\"dataframe\">\n",
       "  <thead>\n",
       "    <tr style=\"text-align: right;\">\n",
       "      <th></th>\n",
       "      <th>tpep_pickup_datetime</th>\n",
       "      <th>tpep_dropoff_datetime</th>\n",
       "      <th>passenger_count</th>\n",
       "      <th>trip_distance</th>\n",
       "      <th>pickup_longitude</th>\n",
       "      <th>pickup_latitude</th>\n",
       "      <th>region</th>\n",
       "    </tr>\n",
       "  </thead>\n",
       "  <tbody>\n",
       "    <tr>\n",
       "      <th>0</th>\n",
       "      <td>2016-06-09 21:00:00</td>\n",
       "      <td>2016-06-09 21:13:08</td>\n",
       "      <td>2</td>\n",
       "      <td>0.79</td>\n",
       "      <td>-73.983360</td>\n",
       "      <td>40.760937</td>\n",
       "      <td>1232</td>\n",
       "    </tr>\n",
       "    <tr>\n",
       "      <th>1</th>\n",
       "      <td>2016-06-09 21:00:00</td>\n",
       "      <td>2016-06-09 21:35:11</td>\n",
       "      <td>1</td>\n",
       "      <td>5.22</td>\n",
       "      <td>-73.981720</td>\n",
       "      <td>40.736668</td>\n",
       "      <td>1229</td>\n",
       "    </tr>\n",
       "    <tr>\n",
       "      <th>2</th>\n",
       "      <td>2016-06-09 21:00:00</td>\n",
       "      <td>2016-06-09 21:13:10</td>\n",
       "      <td>1</td>\n",
       "      <td>1.26</td>\n",
       "      <td>-73.994316</td>\n",
       "      <td>40.751072</td>\n",
       "      <td>1181</td>\n",
       "    </tr>\n",
       "    <tr>\n",
       "      <th>3</th>\n",
       "      <td>2016-06-09 21:00:00</td>\n",
       "      <td>2016-06-09 21:36:10</td>\n",
       "      <td>1</td>\n",
       "      <td>7.39</td>\n",
       "      <td>-73.982361</td>\n",
       "      <td>40.773891</td>\n",
       "      <td>1234</td>\n",
       "    </tr>\n",
       "    <tr>\n",
       "      <th>4</th>\n",
       "      <td>2016-06-09 21:00:00</td>\n",
       "      <td>2016-06-09 21:23:23</td>\n",
       "      <td>1</td>\n",
       "      <td>3.10</td>\n",
       "      <td>-73.987106</td>\n",
       "      <td>40.733173</td>\n",
       "      <td>1229</td>\n",
       "    </tr>\n",
       "  </tbody>\n",
       "</table>\n",
       "</div>"
      ],
      "text/plain": [
       "  tpep_pickup_datetime tpep_dropoff_datetime  passenger_count  trip_distance  \\\n",
       "0  2016-06-09 21:00:00   2016-06-09 21:13:08                2           0.79   \n",
       "1  2016-06-09 21:00:00   2016-06-09 21:35:11                1           5.22   \n",
       "2  2016-06-09 21:00:00   2016-06-09 21:13:10                1           1.26   \n",
       "3  2016-06-09 21:00:00   2016-06-09 21:36:10                1           7.39   \n",
       "4  2016-06-09 21:00:00   2016-06-09 21:23:23                1           3.10   \n",
       "\n",
       "   pickup_longitude  pickup_latitude  region  \n",
       "0        -73.983360        40.760937    1232  \n",
       "1        -73.981720        40.736668    1229  \n",
       "2        -73.994316        40.751072    1181  \n",
       "3        -73.982361        40.773891    1234  \n",
       "4        -73.987106        40.733173    1229  "
      ]
     },
     "execution_count": 12,
     "metadata": {},
     "output_type": "execute_result"
    }
   ],
   "source": [
    "#Окргугляем время начала поздки до часа \n",
    "data.loc[:,'tpep_pickup_datetime'] = data.tpep_pickup_datetime.dt.floor('h')\n",
    "data.head()"
   ]
  },
  {
   "cell_type": "code",
   "execution_count": 13,
   "metadata": {},
   "outputs": [
    {
     "data": {
      "text/html": [
       "<div>\n",
       "<style scoped>\n",
       "    .dataframe tbody tr th:only-of-type {\n",
       "        vertical-align: middle;\n",
       "    }\n",
       "\n",
       "    .dataframe tbody tr th {\n",
       "        vertical-align: top;\n",
       "    }\n",
       "\n",
       "    .dataframe thead th {\n",
       "        text-align: right;\n",
       "    }\n",
       "</style>\n",
       "<table border=\"1\" class=\"dataframe\">\n",
       "  <thead>\n",
       "    <tr style=\"text-align: right;\">\n",
       "      <th></th>\n",
       "      <th>tpep_pickup_datetime</th>\n",
       "      <th>region</th>\n",
       "      <th>count</th>\n",
       "    </tr>\n",
       "  </thead>\n",
       "  <tbody>\n",
       "    <tr>\n",
       "      <th>0</th>\n",
       "      <td>2016-01-01</td>\n",
       "      <td>718</td>\n",
       "      <td>1</td>\n",
       "    </tr>\n",
       "    <tr>\n",
       "      <th>1</th>\n",
       "      <td>2016-01-01</td>\n",
       "      <td>864</td>\n",
       "      <td>1</td>\n",
       "    </tr>\n",
       "    <tr>\n",
       "      <th>2</th>\n",
       "      <td>2016-01-01</td>\n",
       "      <td>928</td>\n",
       "      <td>1</td>\n",
       "    </tr>\n",
       "    <tr>\n",
       "      <th>3</th>\n",
       "      <td>2016-01-01</td>\n",
       "      <td>979</td>\n",
       "      <td>1</td>\n",
       "    </tr>\n",
       "    <tr>\n",
       "      <th>4</th>\n",
       "      <td>2016-01-01</td>\n",
       "      <td>1015</td>\n",
       "      <td>2</td>\n",
       "    </tr>\n",
       "  </tbody>\n",
       "</table>\n",
       "</div>"
      ],
      "text/plain": [
       "  tpep_pickup_datetime  region  count\n",
       "0           2016-01-01     718      1\n",
       "1           2016-01-01     864      1\n",
       "2           2016-01-01     928      1\n",
       "3           2016-01-01     979      1\n",
       "4           2016-01-01    1015      2"
      ]
     },
     "execution_count": 13,
     "metadata": {},
     "output_type": "execute_result"
    }
   ],
   "source": [
    "#Получаем аггрегированные данные (время, регион, кол-во поездок) - без учета пар время-регион где не было поездок.\n",
    "data = data.groupby([data.tpep_pickup_datetime, data.region]).size().reset_index(name='count')\n",
    "data.head()"
   ]
  },
  {
   "cell_type": "code",
   "execution_count": 15,
   "metadata": {},
   "outputs": [
    {
     "name": "stdout",
     "output_type": "stream",
     "text": [
      "2016-01-01T00:00:00.000000000 2016-06-30T23:00:00.000000000 4367\n",
      "<type 'numpy.datetime64'>\n",
      "<type 'datetime.timedelta'>\n",
      "4367\n"
     ]
    }
   ],
   "source": [
    "times = data.tpep_pickup_datetime.unique()\n",
    "#times.sort_values()\n",
    "#d = times - np.roll(times,1)\n",
    "#print datetime.timedelta(milliseconds=3600000000000 / (10 ** 6))\n",
    "\n",
    "start_date = times.min()\n",
    "day_count = pd.to_timedelta([(times.max() - times.min())]).astype('timedelta64[h]')[0] #.astype('timedelta64[h]').astype('int')\n",
    "print start_date, times.max(),  day_count.astype('int')\n",
    "print type(start_date)\n",
    "print type(datetime.timedelta(hours=12))\n",
    "dts = [start_date + np.timedelta64(n, 'h') for n in range(day_count)]\n",
    "print len(dts)\n"
   ]
  },
  {
   "cell_type": "code",
   "execution_count": 16,
   "metadata": {},
   "outputs": [
    {
     "name": "stdout",
     "output_type": "stream",
     "text": [
      "4367\n"
     ]
    }
   ],
   "source": [
    "#Теперь дополним фрейм строками для тех пар время-регион для которых не было поездок.\n",
    "\n",
    "#Для этого возьмем все возможные времена начала поздки\n",
    "times = dts# data.tpep_pickup_datetime.unique()\n",
    "print len(times)\n",
    "#Создадим фрейм из всех кобинаций регионов и часов\n",
    "all_regions = range(1,2501)\n",
    "\n",
    "placeholder = pd.MultiIndex.from_product([times, all_regions], names=['tpep_pickup_datetime','region']).to_frame()\n",
    "placeholder.reset_index(drop=True, inplace=True)"
   ]
  },
  {
   "cell_type": "code",
   "execution_count": 17,
   "metadata": {},
   "outputs": [
    {
     "data": {
      "text/html": [
       "<div>\n",
       "<style scoped>\n",
       "    .dataframe tbody tr th:only-of-type {\n",
       "        vertical-align: middle;\n",
       "    }\n",
       "\n",
       "    .dataframe tbody tr th {\n",
       "        vertical-align: top;\n",
       "    }\n",
       "\n",
       "    .dataframe thead th {\n",
       "        text-align: right;\n",
       "    }\n",
       "</style>\n",
       "<table border=\"1\" class=\"dataframe\">\n",
       "  <thead>\n",
       "    <tr style=\"text-align: right;\">\n",
       "      <th></th>\n",
       "      <th>tpep_pickup_datetime</th>\n",
       "      <th>region</th>\n",
       "      <th>count</th>\n",
       "    </tr>\n",
       "  </thead>\n",
       "  <tbody>\n",
       "    <tr>\n",
       "      <th>0</th>\n",
       "      <td>2016-01-01</td>\n",
       "      <td>718</td>\n",
       "      <td>1.0</td>\n",
       "    </tr>\n",
       "    <tr>\n",
       "      <th>1</th>\n",
       "      <td>2016-01-01</td>\n",
       "      <td>864</td>\n",
       "      <td>1.0</td>\n",
       "    </tr>\n",
       "    <tr>\n",
       "      <th>2</th>\n",
       "      <td>2016-01-01</td>\n",
       "      <td>928</td>\n",
       "      <td>1.0</td>\n",
       "    </tr>\n",
       "    <tr>\n",
       "      <th>3</th>\n",
       "      <td>2016-01-01</td>\n",
       "      <td>979</td>\n",
       "      <td>1.0</td>\n",
       "    </tr>\n",
       "    <tr>\n",
       "      <th>4</th>\n",
       "      <td>2016-01-01</td>\n",
       "      <td>1015</td>\n",
       "      <td>2.0</td>\n",
       "    </tr>\n",
       "  </tbody>\n",
       "</table>\n",
       "</div>"
      ],
      "text/plain": [
       "  tpep_pickup_datetime  region  count\n",
       "0           2016-01-01     718    1.0\n",
       "1           2016-01-01     864    1.0\n",
       "2           2016-01-01     928    1.0\n",
       "3           2016-01-01     979    1.0\n",
       "4           2016-01-01    1015    2.0"
      ]
     },
     "execution_count": 17,
     "metadata": {},
     "output_type": "execute_result"
    }
   ],
   "source": [
    "#Джоиним два фрейма и после заполням нулями ячейки для пар в которых не было поездок\n",
    "data = pd.merge(data, placeholder, 'right', on=['tpep_pickup_datetime', 'region'])\n",
    "data = data.fillna(0)\n",
    "data.head()"
   ]
  },
  {
   "cell_type": "code",
   "execution_count": 20,
   "metadata": {},
   "outputs": [
    {
     "name": "stdout",
     "output_type": "stream",
     "text": [
      "(4367, 2500)\n"
     ]
    },
    {
     "data": {
      "text/html": [
       "<div>\n",
       "<style scoped>\n",
       "    .dataframe tbody tr th:only-of-type {\n",
       "        vertical-align: middle;\n",
       "    }\n",
       "\n",
       "    .dataframe tbody tr th {\n",
       "        vertical-align: top;\n",
       "    }\n",
       "\n",
       "    .dataframe thead th {\n",
       "        text-align: right;\n",
       "    }\n",
       "</style>\n",
       "<table border=\"1\" class=\"dataframe\">\n",
       "  <thead>\n",
       "    <tr style=\"text-align: right;\">\n",
       "      <th></th>\n",
       "      <th>1</th>\n",
       "      <th>2</th>\n",
       "      <th>3</th>\n",
       "      <th>4</th>\n",
       "      <th>5</th>\n",
       "      <th>6</th>\n",
       "      <th>7</th>\n",
       "      <th>8</th>\n",
       "      <th>9</th>\n",
       "      <th>10</th>\n",
       "      <th>...</th>\n",
       "      <th>2491</th>\n",
       "      <th>2492</th>\n",
       "      <th>2493</th>\n",
       "      <th>2494</th>\n",
       "      <th>2495</th>\n",
       "      <th>2496</th>\n",
       "      <th>2497</th>\n",
       "      <th>2498</th>\n",
       "      <th>2499</th>\n",
       "      <th>2500</th>\n",
       "    </tr>\n",
       "    <tr>\n",
       "      <th>tpep_pickup_datetime</th>\n",
       "      <th></th>\n",
       "      <th></th>\n",
       "      <th></th>\n",
       "      <th></th>\n",
       "      <th></th>\n",
       "      <th></th>\n",
       "      <th></th>\n",
       "      <th></th>\n",
       "      <th></th>\n",
       "      <th></th>\n",
       "      <th></th>\n",
       "      <th></th>\n",
       "      <th></th>\n",
       "      <th></th>\n",
       "      <th></th>\n",
       "      <th></th>\n",
       "      <th></th>\n",
       "      <th></th>\n",
       "      <th></th>\n",
       "      <th></th>\n",
       "      <th></th>\n",
       "    </tr>\n",
       "  </thead>\n",
       "  <tbody>\n",
       "    <tr>\n",
       "      <th>2016-01-01 00:00:00</th>\n",
       "      <td>0.0</td>\n",
       "      <td>0.0</td>\n",
       "      <td>0.0</td>\n",
       "      <td>0.0</td>\n",
       "      <td>0.0</td>\n",
       "      <td>0.0</td>\n",
       "      <td>0.0</td>\n",
       "      <td>0.0</td>\n",
       "      <td>0.0</td>\n",
       "      <td>0.0</td>\n",
       "      <td>...</td>\n",
       "      <td>0.0</td>\n",
       "      <td>0.0</td>\n",
       "      <td>0.0</td>\n",
       "      <td>0.0</td>\n",
       "      <td>0.0</td>\n",
       "      <td>0.0</td>\n",
       "      <td>0.0</td>\n",
       "      <td>0.0</td>\n",
       "      <td>0.0</td>\n",
       "      <td>0.0</td>\n",
       "    </tr>\n",
       "    <tr>\n",
       "      <th>2016-01-01 01:00:00</th>\n",
       "      <td>0.0</td>\n",
       "      <td>0.0</td>\n",
       "      <td>0.0</td>\n",
       "      <td>0.0</td>\n",
       "      <td>0.0</td>\n",
       "      <td>0.0</td>\n",
       "      <td>0.0</td>\n",
       "      <td>0.0</td>\n",
       "      <td>0.0</td>\n",
       "      <td>0.0</td>\n",
       "      <td>...</td>\n",
       "      <td>0.0</td>\n",
       "      <td>0.0</td>\n",
       "      <td>0.0</td>\n",
       "      <td>0.0</td>\n",
       "      <td>0.0</td>\n",
       "      <td>0.0</td>\n",
       "      <td>0.0</td>\n",
       "      <td>0.0</td>\n",
       "      <td>0.0</td>\n",
       "      <td>0.0</td>\n",
       "    </tr>\n",
       "    <tr>\n",
       "      <th>2016-01-01 02:00:00</th>\n",
       "      <td>0.0</td>\n",
       "      <td>0.0</td>\n",
       "      <td>0.0</td>\n",
       "      <td>0.0</td>\n",
       "      <td>0.0</td>\n",
       "      <td>0.0</td>\n",
       "      <td>0.0</td>\n",
       "      <td>0.0</td>\n",
       "      <td>0.0</td>\n",
       "      <td>0.0</td>\n",
       "      <td>...</td>\n",
       "      <td>0.0</td>\n",
       "      <td>0.0</td>\n",
       "      <td>0.0</td>\n",
       "      <td>0.0</td>\n",
       "      <td>0.0</td>\n",
       "      <td>0.0</td>\n",
       "      <td>0.0</td>\n",
       "      <td>0.0</td>\n",
       "      <td>0.0</td>\n",
       "      <td>0.0</td>\n",
       "    </tr>\n",
       "    <tr>\n",
       "      <th>2016-01-01 03:00:00</th>\n",
       "      <td>0.0</td>\n",
       "      <td>0.0</td>\n",
       "      <td>0.0</td>\n",
       "      <td>0.0</td>\n",
       "      <td>0.0</td>\n",
       "      <td>0.0</td>\n",
       "      <td>0.0</td>\n",
       "      <td>0.0</td>\n",
       "      <td>0.0</td>\n",
       "      <td>0.0</td>\n",
       "      <td>...</td>\n",
       "      <td>0.0</td>\n",
       "      <td>0.0</td>\n",
       "      <td>0.0</td>\n",
       "      <td>0.0</td>\n",
       "      <td>0.0</td>\n",
       "      <td>0.0</td>\n",
       "      <td>0.0</td>\n",
       "      <td>0.0</td>\n",
       "      <td>0.0</td>\n",
       "      <td>0.0</td>\n",
       "    </tr>\n",
       "    <tr>\n",
       "      <th>2016-01-01 04:00:00</th>\n",
       "      <td>0.0</td>\n",
       "      <td>0.0</td>\n",
       "      <td>0.0</td>\n",
       "      <td>0.0</td>\n",
       "      <td>0.0</td>\n",
       "      <td>0.0</td>\n",
       "      <td>0.0</td>\n",
       "      <td>0.0</td>\n",
       "      <td>0.0</td>\n",
       "      <td>0.0</td>\n",
       "      <td>...</td>\n",
       "      <td>0.0</td>\n",
       "      <td>0.0</td>\n",
       "      <td>0.0</td>\n",
       "      <td>0.0</td>\n",
       "      <td>0.0</td>\n",
       "      <td>0.0</td>\n",
       "      <td>0.0</td>\n",
       "      <td>0.0</td>\n",
       "      <td>0.0</td>\n",
       "      <td>0.0</td>\n",
       "    </tr>\n",
       "  </tbody>\n",
       "</table>\n",
       "<p>5 rows × 2500 columns</p>\n",
       "</div>"
      ],
      "text/plain": [
       "                      1     2     3     4     5     6     7     8     9     \\\n",
       "tpep_pickup_datetime                                                         \n",
       "2016-01-01 00:00:00    0.0   0.0   0.0   0.0   0.0   0.0   0.0   0.0   0.0   \n",
       "2016-01-01 01:00:00    0.0   0.0   0.0   0.0   0.0   0.0   0.0   0.0   0.0   \n",
       "2016-01-01 02:00:00    0.0   0.0   0.0   0.0   0.0   0.0   0.0   0.0   0.0   \n",
       "2016-01-01 03:00:00    0.0   0.0   0.0   0.0   0.0   0.0   0.0   0.0   0.0   \n",
       "2016-01-01 04:00:00    0.0   0.0   0.0   0.0   0.0   0.0   0.0   0.0   0.0   \n",
       "\n",
       "                      10    ...   2491  2492  2493  2494  2495  2496  2497  \\\n",
       "tpep_pickup_datetime        ...                                              \n",
       "2016-01-01 00:00:00    0.0  ...    0.0   0.0   0.0   0.0   0.0   0.0   0.0   \n",
       "2016-01-01 01:00:00    0.0  ...    0.0   0.0   0.0   0.0   0.0   0.0   0.0   \n",
       "2016-01-01 02:00:00    0.0  ...    0.0   0.0   0.0   0.0   0.0   0.0   0.0   \n",
       "2016-01-01 03:00:00    0.0  ...    0.0   0.0   0.0   0.0   0.0   0.0   0.0   \n",
       "2016-01-01 04:00:00    0.0  ...    0.0   0.0   0.0   0.0   0.0   0.0   0.0   \n",
       "\n",
       "                      2498  2499  2500  \n",
       "tpep_pickup_datetime                    \n",
       "2016-01-01 00:00:00    0.0   0.0   0.0  \n",
       "2016-01-01 01:00:00    0.0   0.0   0.0  \n",
       "2016-01-01 02:00:00    0.0   0.0   0.0  \n",
       "2016-01-01 03:00:00    0.0   0.0   0.0  \n",
       "2016-01-01 04:00:00    0.0   0.0   0.0  \n",
       "\n",
       "[5 rows x 2500 columns]"
      ]
     },
     "execution_count": 20,
     "metadata": {},
     "output_type": "execute_result"
    }
   ],
   "source": [
    "pivot_data = data.pivot_table(index='tpep_pickup_datetime',columns='region', values='count')\n",
    "pivot_data.columns = pivot_data.columns.values\n",
    "print pivot_data.shape\n",
    "pivot_data.head()\n",
    "pivot_data.to_pickle('TaxiData/stat_pivot_2016-01_2016-06.dat')\n",
    "\n",
    "#data.to_pickle('TaxiData\\stat_2016-01_2016-06.dat')\n",
    "#data = pd.read_pickle('TaxiData\\stat_2015-01_2016-04.dat')\n",
    "#data.shape"
   ]
  },
  {
   "cell_type": "code",
   "execution_count": 58,
   "metadata": {
    "collapsed": true
   },
   "outputs": [],
   "source": [
    "#data_s = data.sort_values(['tpep_pickup_datetime'])\n",
    "\n",
    "#diff = pd.DataFrame(data_s.tpep_pickup_datetime - data_s.tpep_pickup_datetime.shift(1))\n",
    "#diff = diff.rename(index=str, columns={\"tpep_pickup_datetime\": \"dif\"})\n",
    "#diff[diff.dif != '01:00:00']\n",
    "#data = data.set_index('tpep_pickup_datetime')"
   ]
  },
  {
   "cell_type": "code",
   "execution_count": 59,
   "metadata": {},
   "outputs": [
    {
     "data": {
      "text/plain": [
       "<matplotlib.axes._subplots.AxesSubplot at 0x9244d68>"
      ]
     },
     "execution_count": 59,
     "metadata": {},
     "output_type": "execute_result"
    },
    {
     "data": {
      "image/png": "[encoded data removed]",
      "text/plain": [
       "<matplotlib.figure.Figure at 0x35edfe10>"
      ]
     },
     "metadata": {},
     "output_type": "display_data"
    }
   ],
   "source": [
    "data[data.region == 1231]['count'].plot()"
   ]
  },
  {
   "cell_type": "code",
   "execution_count": 16,
   "metadata": {
    "collapsed": true
   },
   "outputs": [],
   "source": [
    "sored_vals = data.groupby(['region']).sum().reset_index().sort_values('count')\n",
    "sored_vals = sored_vals[sored_vals['count'] < 903962.0]\n",
    "\n",
    "#sored_vals"
   ]
  },
  {
   "cell_type": "code",
   "execution_count": 67,
   "metadata": {},
   "outputs": [
    {
     "name": "stdout",
     "output_type": "stream",
     "text": [
      "(2903, 3)\n"
     ]
    },
    {
     "data": {
      "text/html": [
       "<div>\n",
       "<style>\n",
       "    .dataframe thead tr:only-child th {\n",
       "        text-align: right;\n",
       "    }\n",
       "\n",
       "    .dataframe thead th {\n",
       "        text-align: left;\n",
       "    }\n",
       "\n",
       "    .dataframe tbody tr th {\n",
       "        vertical-align: top;\n",
       "    }\n",
       "</style>\n",
       "<table border=\"1\" class=\"dataframe\">\n",
       "  <thead>\n",
       "    <tr style=\"text-align: right;\">\n",
       "      <th></th>\n",
       "      <th>tpep_pickup_datetime</th>\n",
       "      <th>region</th>\n",
       "      <th>count</th>\n",
       "    </tr>\n",
       "  </thead>\n",
       "  <tbody>\n",
       "    <tr>\n",
       "      <th>90</th>\n",
       "      <td>2016-01-01 00:00:00</td>\n",
       "      <td>1326</td>\n",
       "      <td>103.0</td>\n",
       "    </tr>\n",
       "    <tr>\n",
       "      <th>396</th>\n",
       "      <td>2016-01-01 01:00:00</td>\n",
       "      <td>1326</td>\n",
       "      <td>153.0</td>\n",
       "    </tr>\n",
       "    <tr>\n",
       "      <th>743</th>\n",
       "      <td>2016-01-01 02:00:00</td>\n",
       "      <td>1326</td>\n",
       "      <td>167.0</td>\n",
       "    </tr>\n",
       "    <tr>\n",
       "      <th>1101</th>\n",
       "      <td>2016-01-01 03:00:00</td>\n",
       "      <td>1326</td>\n",
       "      <td>168.0</td>\n",
       "    </tr>\n",
       "    <tr>\n",
       "      <th>1466</th>\n",
       "      <td>2016-01-01 04:00:00</td>\n",
       "      <td>1326</td>\n",
       "      <td>121.0</td>\n",
       "    </tr>\n",
       "  </tbody>\n",
       "</table>\n",
       "</div>"
      ],
      "text/plain": [
       "     tpep_pickup_datetime  region  count\n",
       "90    2016-01-01 00:00:00    1326  103.0\n",
       "396   2016-01-01 01:00:00    1326  153.0\n",
       "743   2016-01-01 02:00:00    1326  167.0\n",
       "1101  2016-01-01 03:00:00    1326  168.0\n",
       "1466  2016-01-01 04:00:00    1326  121.0"
      ]
     },
     "execution_count": 67,
     "metadata": {},
     "output_type": "execute_result"
    },
    {
     "data": {
      "text/plain": [
       "<matplotlib.figure.Figure at 0x4a85d128>"
      ]
     },
     "metadata": {},
     "output_type": "display_data"
    }
   ],
   "source": [
    "#Получаем данные для региона 1231 - Empire State Building (из второй недели)\n",
    "plt.figure(figsize(20,5))\n",
    "\n",
    "esb_data = data[data.region == 1326]#1126\n",
    "\n",
    "print esb_data.shape #(3637, 3) если не дополнять данные пустыми парами\n",
    "#esb_data = esb_data.sort_values(['tpep_pickup_datetime'])\n",
    "esb_data.head()\n",
    "\n",
    "#Пронумеруем строки\n",
    "#esb_data.to_pickle('TaxiData\\stat_2016-01_2016-04_1326.dat')\n",
    "#esb_data.to_csv('TaxiData\\c6w3_esb_data.csv',header=True)\n",
    "#esb_data = pd.read_pickle('TaxiData\\stat_2015-01_2016-04_1126.dat')"
   ]
  },
  {
   "cell_type": "code",
   "execution_count": 23,
   "metadata": {},
   "outputs": [
    {
     "name": "stderr",
     "output_type": "stream",
     "text": [
      "C:\\Users\\nlavr\\Anaconda2\\lib\\site-packages\\ipykernel_launcher.py:2: SettingWithCopyWarning: \n",
      "A value is trying to be set on a copy of a slice from a DataFrame.\n",
      "Try using .loc[row_indexer,col_indexer] = value instead\n",
      "\n",
      "See the caveats in the documentation: http://pandas.pydata.org/pandas-docs/stable/indexing.html#indexing-view-versus-copy\n",
      "  \n"
     ]
    },
    {
     "data": {
      "text/html": [
       "<div>\n",
       "<style>\n",
       "    .dataframe thead tr:only-child th {\n",
       "        text-align: right;\n",
       "    }\n",
       "\n",
       "    .dataframe thead th {\n",
       "        text-align: left;\n",
       "    }\n",
       "\n",
       "    .dataframe tbody tr th {\n",
       "        vertical-align: top;\n",
       "    }\n",
       "</style>\n",
       "<table border=\"1\" class=\"dataframe\">\n",
       "  <thead>\n",
       "    <tr style=\"text-align: right;\">\n",
       "      <th></th>\n",
       "      <th>region</th>\n",
       "      <th>count</th>\n",
       "      <th>rn</th>\n",
       "    </tr>\n",
       "    <tr>\n",
       "      <th>tpep_pickup_datetime</th>\n",
       "      <th></th>\n",
       "      <th></th>\n",
       "      <th></th>\n",
       "    </tr>\n",
       "  </thead>\n",
       "  <tbody>\n",
       "    <tr>\n",
       "      <th>2016-01-01 00:00:00</th>\n",
       "      <td>1126</td>\n",
       "      <td>319.0</td>\n",
       "      <td>1</td>\n",
       "    </tr>\n",
       "    <tr>\n",
       "      <th>2016-01-01 01:00:00</th>\n",
       "      <td>1126</td>\n",
       "      <td>404.0</td>\n",
       "      <td>2</td>\n",
       "    </tr>\n",
       "    <tr>\n",
       "      <th>2016-01-01 02:00:00</th>\n",
       "      <td>1126</td>\n",
       "      <td>393.0</td>\n",
       "      <td>3</td>\n",
       "    </tr>\n",
       "    <tr>\n",
       "      <th>2016-01-01 03:00:00</th>\n",
       "      <td>1126</td>\n",
       "      <td>252.0</td>\n",
       "      <td>4</td>\n",
       "    </tr>\n",
       "    <tr>\n",
       "      <th>2016-01-01 04:00:00</th>\n",
       "      <td>1126</td>\n",
       "      <td>145.0</td>\n",
       "      <td>5</td>\n",
       "    </tr>\n",
       "  </tbody>\n",
       "</table>\n",
       "</div>"
      ],
      "text/plain": [
       "                      region  count  rn\n",
       "tpep_pickup_datetime                   \n",
       "2016-01-01 00:00:00     1126  319.0   1\n",
       "2016-01-01 01:00:00     1126  404.0   2\n",
       "2016-01-01 02:00:00     1126  393.0   3\n",
       "2016-01-01 03:00:00     1126  252.0   4\n",
       "2016-01-01 04:00:00     1126  145.0   5"
      ]
     },
     "execution_count": 23,
     "metadata": {},
     "output_type": "execute_result"
    }
   ],
   "source": [
    "esb_data_s = esb_data#pd.read_pickle('TaxiData\\c6w3_esb_data.dat')\n",
    "esb_data_s['rn'] =  range(1, esb_data_s.shape[0] + 1)\n",
    "esb_data_s.head()"
   ]
  },
  {
   "cell_type": "code",
   "execution_count": null,
   "metadata": {
    "collapsed": true
   },
   "outputs": [],
   "source": [
    "diff = pd.DataFrame(data.tpep_pickup_datetime - data.tpep_pickup_datetime.shift(1))\n",
    "diff = diff.rename(index=str, columns={\"tpep_pickup_datetime\": \"dif\"})\n",
    "diff[diff.dif != '01:00:00']\n",
    "\n",
    "diff[('2015-01-26 00:00:00' < diff.index) & (diff.index < '2015-01-27 08:00:00')  ]"
   ]
  },
  {
   "cell_type": "code",
   "execution_count": 25,
   "metadata": {},
   "outputs": [
    {
     "name": "stderr",
     "output_type": "stream",
     "text": [
      "C:\\Users\\nlavr\\Anaconda2\\lib\\site-packages\\pandas\\core\\indexing.py:337: SettingWithCopyWarning: \n",
      "A value is trying to be set on a copy of a slice from a DataFrame.\n",
      "Try using .loc[row_indexer,col_indexer] = value instead\n",
      "\n",
      "See the caveats in the documentation: http://pandas.pydata.org/pandas-docs/stable/indexing.html#indexing-view-versus-copy\n",
      "  self.obj[key] = _infer_fill_value(value)\n",
      "C:\\Users\\nlavr\\Anaconda2\\lib\\site-packages\\pandas\\core\\indexing.py:517: SettingWithCopyWarning: \n",
      "A value is trying to be set on a copy of a slice from a DataFrame.\n",
      "Try using .loc[row_indexer,col_indexer] = value instead\n",
      "\n",
      "See the caveats in the documentation: http://pandas.pydata.org/pandas-docs/stable/indexing.html#indexing-view-versus-copy\n",
      "  self.obj[item] = s\n"
     ]
    }
   ],
   "source": [
    "K = 5\n",
    "\n",
    "for k in range(1, K + 1):\n",
    "    esb_data_s.loc[:,'s'+ str(k)] = np.sin(esb_data_s['rn'] * 2 * np.pi * k / 168)\n",
    "    esb_data_s.loc[:,'c'+ str(k)] = np.cos(esb_data_s['rn'] * 2 * np.pi * k / 168)"
   ]
  },
  {
   "cell_type": "code",
   "execution_count": 26,
   "metadata": {},
   "outputs": [
    {
     "data": {
      "text/html": [
       "<div>\n",
       "<style>\n",
       "    .dataframe thead tr:only-child th {\n",
       "        text-align: right;\n",
       "    }\n",
       "\n",
       "    .dataframe thead th {\n",
       "        text-align: left;\n",
       "    }\n",
       "\n",
       "    .dataframe tbody tr th {\n",
       "        vertical-align: top;\n",
       "    }\n",
       "</style>\n",
       "<table border=\"1\" class=\"dataframe\">\n",
       "  <thead>\n",
       "    <tr style=\"text-align: right;\">\n",
       "      <th></th>\n",
       "      <th>tpep_pickup_datetime</th>\n",
       "      <th>region</th>\n",
       "      <th>count</th>\n",
       "      <th>rn</th>\n",
       "      <th>s1</th>\n",
       "      <th>c1</th>\n",
       "      <th>s2</th>\n",
       "      <th>c2</th>\n",
       "      <th>s3</th>\n",
       "      <th>c3</th>\n",
       "      <th>s4</th>\n",
       "      <th>c4</th>\n",
       "      <th>s5</th>\n",
       "      <th>c5</th>\n",
       "    </tr>\n",
       "  </thead>\n",
       "  <tbody>\n",
       "    <tr>\n",
       "      <th>22</th>\n",
       "      <td>2015-01-01 00:00:00</td>\n",
       "      <td>1126</td>\n",
       "      <td>305.0</td>\n",
       "      <td>1</td>\n",
       "      <td>0.037391</td>\n",
       "      <td>0.999301</td>\n",
       "      <td>0.074730</td>\n",
       "      <td>0.997204</td>\n",
       "      <td>0.111964</td>\n",
       "      <td>0.993712</td>\n",
       "      <td>0.149042</td>\n",
       "      <td>0.988831</td>\n",
       "      <td>0.185912</td>\n",
       "      <td>0.982566</td>\n",
       "    </tr>\n",
       "    <tr>\n",
       "      <th>313</th>\n",
       "      <td>2015-01-01 01:00:00</td>\n",
       "      <td>1126</td>\n",
       "      <td>474.0</td>\n",
       "      <td>2</td>\n",
       "      <td>0.074730</td>\n",
       "      <td>0.997204</td>\n",
       "      <td>0.149042</td>\n",
       "      <td>0.988831</td>\n",
       "      <td>0.222521</td>\n",
       "      <td>0.974928</td>\n",
       "      <td>0.294755</td>\n",
       "      <td>0.955573</td>\n",
       "      <td>0.365341</td>\n",
       "      <td>0.930874</td>\n",
       "    </tr>\n",
       "    <tr>\n",
       "      <th>647</th>\n",
       "      <td>2015-01-01 02:00:00</td>\n",
       "      <td>1126</td>\n",
       "      <td>372.0</td>\n",
       "      <td>3</td>\n",
       "      <td>0.111964</td>\n",
       "      <td>0.993712</td>\n",
       "      <td>0.222521</td>\n",
       "      <td>0.974928</td>\n",
       "      <td>0.330279</td>\n",
       "      <td>0.943883</td>\n",
       "      <td>0.433884</td>\n",
       "      <td>0.900969</td>\n",
       "      <td>0.532032</td>\n",
       "      <td>0.846724</td>\n",
       "    </tr>\n",
       "    <tr>\n",
       "      <th>994</th>\n",
       "      <td>2015-01-01 03:00:00</td>\n",
       "      <td>1126</td>\n",
       "      <td>325.0</td>\n",
       "      <td>4</td>\n",
       "      <td>0.149042</td>\n",
       "      <td>0.988831</td>\n",
       "      <td>0.294755</td>\n",
       "      <td>0.955573</td>\n",
       "      <td>0.433884</td>\n",
       "      <td>0.900969</td>\n",
       "      <td>0.563320</td>\n",
       "      <td>0.826239</td>\n",
       "      <td>0.680173</td>\n",
       "      <td>0.733052</td>\n",
       "    </tr>\n",
       "    <tr>\n",
       "      <th>1355</th>\n",
       "      <td>2015-01-01 04:00:00</td>\n",
       "      <td>1126</td>\n",
       "      <td>172.0</td>\n",
       "      <td>5</td>\n",
       "      <td>0.185912</td>\n",
       "      <td>0.982566</td>\n",
       "      <td>0.365341</td>\n",
       "      <td>0.930874</td>\n",
       "      <td>0.532032</td>\n",
       "      <td>0.846724</td>\n",
       "      <td>0.680173</td>\n",
       "      <td>0.733052</td>\n",
       "      <td>0.804598</td>\n",
       "      <td>0.593820</td>\n",
       "    </tr>\n",
       "  </tbody>\n",
       "</table>\n",
       "</div>"
      ],
      "text/plain": [
       "     tpep_pickup_datetime  region  count  rn        s1        c1        s2  \\\n",
       "22    2015-01-01 00:00:00    1126  305.0   1  0.037391  0.999301  0.074730   \n",
       "313   2015-01-01 01:00:00    1126  474.0   2  0.074730  0.997204  0.149042   \n",
       "647   2015-01-01 02:00:00    1126  372.0   3  0.111964  0.993712  0.222521   \n",
       "994   2015-01-01 03:00:00    1126  325.0   4  0.149042  0.988831  0.294755   \n",
       "1355  2015-01-01 04:00:00    1126  172.0   5  0.185912  0.982566  0.365341   \n",
       "\n",
       "            c2        s3        c3        s4        c4        s5        c5  \n",
       "22    0.997204  0.111964  0.993712  0.149042  0.988831  0.185912  0.982566  \n",
       "313   0.988831  0.222521  0.974928  0.294755  0.955573  0.365341  0.930874  \n",
       "647   0.974928  0.330279  0.943883  0.433884  0.900969  0.532032  0.846724  \n",
       "994   0.955573  0.433884  0.900969  0.563320  0.826239  0.680173  0.733052  \n",
       "1355  0.930874  0.532032  0.846724  0.680173  0.733052  0.804598  0.593820  "
      ]
     },
     "execution_count": 26,
     "metadata": {},
     "output_type": "execute_result"
    }
   ],
   "source": [
    "esb_data_s.head()"
   ]
  },
  {
   "cell_type": "code",
   "execution_count": 27,
   "metadata": {},
   "outputs": [
    {
     "data": {
      "text/plain": [
       "<matplotlib.axes._subplots.AxesSubplot at 0x53a39748>"
      ]
     },
     "execution_count": 27,
     "metadata": {},
     "output_type": "execute_result"
    },
    {
     "data": {
      "image/png": "[encoded data removed]",
      "text/plain": [
       "<matplotlib.figure.Figure at 0x627e9e48>"
      ]
     },
     "metadata": {},
     "output_type": "display_data"
    }
   ],
   "source": [
    "e_data = esb_data_s.set_index(esb_data_s['tpep_pickup_datetime'])\n",
    "plt.figure(figsize(16,7))\n",
    "#e_data['count'].plot()\n",
    "s_data = e_data#[(e_data['tpep_pickup_datetime'] >'2015-02-01 00:00:00') & (e_data['tpep_pickup_datetime'] <'2015-03-01 00:00:00')]\n",
    "s_data['count'].plot()"
   ]
  },
  {
   "cell_type": "code",
   "execution_count": 29,
   "metadata": {
    "collapsed": true
   },
   "outputs": [],
   "source": [
    "x_names = []\n",
    "for k in range(1, K + 1):\n",
    "    x_names.append('s'+ str(k))\n",
    "    x_names.append('c'+ str(k))\n",
    "\n",
    "train_data, test_data, train_labels, test_labels = cross_validation.train_test_split(\n",
    "                                                        s_data[x_names], s_data['count'], test_size = 0.2)"
   ]
  },
  {
   "cell_type": "code",
   "execution_count": 30,
   "metadata": {},
   "outputs": [
    {
     "data": {
      "text/plain": [
       "[<matplotlib.lines.Line2D at 0x47e5b128>]"
      ]
     },
     "execution_count": 30,
     "metadata": {},
     "output_type": "execute_result"
    },
    {
     "data": {
      "image/png": "[encoded data removed]",
      "text/plain": [
       "<matplotlib.figure.Figure at 0x8e5a898>"
      ]
     },
     "metadata": {},
     "output_type": "display_data"
    }
   ],
   "source": [
    "linear_regressor = linear_model.LinearRegression()\n",
    "linear_regressor.fit(train_data, train_labels)\n",
    "predictions = linear_regressor.predict(test_data)\n",
    "plt.plot(predictions)\n"
   ]
  },
  {
   "cell_type": "code",
   "execution_count": 31,
   "metadata": {},
   "outputs": [
    {
     "data": {
      "text/plain": [
       "80.683835321290431"
      ]
     },
     "execution_count": 31,
     "metadata": {},
     "output_type": "execute_result"
    }
   ],
   "source": [
    "metrics.mean_absolute_error(test_labels, predictions)"
   ]
  },
  {
   "cell_type": "code",
   "execution_count": 32,
   "metadata": {},
   "outputs": [
    {
     "name": "stdout",
     "output_type": "stream",
     "text": [
      "mean: -81.7087207996, std: 3.62593996846\n"
     ]
    },
    {
     "name": "stderr",
     "output_type": "stream",
     "text": [
      "C:\\Users\\nlavr\\Anaconda2\\lib\\site-packages\\sklearn\\metrics\\scorer.py:100: DeprecationWarning: Scoring method mean_absolute_error was renamed to neg_mean_absolute_error in version 0.18 and will be removed in 0.20.\n",
      "  sample_weight=sample_weight)\n",
      "C:\\Users\\nlavr\\Anaconda2\\lib\\site-packages\\sklearn\\metrics\\scorer.py:100: DeprecationWarning: Scoring method mean_absolute_error was renamed to neg_mean_absolute_error in version 0.18 and will be removed in 0.20.\n",
      "  sample_weight=sample_weight)\n",
      "C:\\Users\\nlavr\\Anaconda2\\lib\\site-packages\\sklearn\\metrics\\scorer.py:100: DeprecationWarning: Scoring method mean_absolute_error was renamed to neg_mean_absolute_error in version 0.18 and will be removed in 0.20.\n",
      "  sample_weight=sample_weight)\n",
      "C:\\Users\\nlavr\\Anaconda2\\lib\\site-packages\\sklearn\\metrics\\scorer.py:100: DeprecationWarning: Scoring method mean_absolute_error was renamed to neg_mean_absolute_error in version 0.18 and will be removed in 0.20.\n",
      "  sample_weight=sample_weight)\n",
      "C:\\Users\\nlavr\\Anaconda2\\lib\\site-packages\\sklearn\\metrics\\scorer.py:100: DeprecationWarning: Scoring method mean_absolute_error was renamed to neg_mean_absolute_error in version 0.18 and will be removed in 0.20.\n",
      "  sample_weight=sample_weight)\n",
      "C:\\Users\\nlavr\\Anaconda2\\lib\\site-packages\\sklearn\\metrics\\scorer.py:100: DeprecationWarning: Scoring method mean_absolute_error was renamed to neg_mean_absolute_error in version 0.18 and will be removed in 0.20.\n",
      "  sample_weight=sample_weight)\n",
      "C:\\Users\\nlavr\\Anaconda2\\lib\\site-packages\\sklearn\\metrics\\scorer.py:100: DeprecationWarning: Scoring method mean_absolute_error was renamed to neg_mean_absolute_error in version 0.18 and will be removed in 0.20.\n",
      "  sample_weight=sample_weight)\n",
      "C:\\Users\\nlavr\\Anaconda2\\lib\\site-packages\\sklearn\\metrics\\scorer.py:100: DeprecationWarning: Scoring method mean_absolute_error was renamed to neg_mean_absolute_error in version 0.18 and will be removed in 0.20.\n",
      "  sample_weight=sample_weight)\n",
      "C:\\Users\\nlavr\\Anaconda2\\lib\\site-packages\\sklearn\\metrics\\scorer.py:100: DeprecationWarning: Scoring method mean_absolute_error was renamed to neg_mean_absolute_error in version 0.18 and will be removed in 0.20.\n",
      "  sample_weight=sample_weight)\n",
      "C:\\Users\\nlavr\\Anaconda2\\lib\\site-packages\\sklearn\\metrics\\scorer.py:100: DeprecationWarning: Scoring method mean_absolute_error was renamed to neg_mean_absolute_error in version 0.18 and will be removed in 0.20.\n",
      "  sample_weight=sample_weight)\n"
     ]
    }
   ],
   "source": [
    "linear_scoring = cross_validation.cross_val_score(linear_regressor,  s_data[x_names], s_data['count'], \n",
    "                                                  scoring = 'mean_absolute_error', cv = 10)\n",
    "print 'mean: {}, std: {}'.format(linear_scoring.mean(), linear_scoring.std())"
   ]
  },
  {
   "cell_type": "code",
   "execution_count": 41,
   "metadata": {},
   "outputs": [
    {
     "name": "stdout",
     "output_type": "stream",
     "text": [
      "s1 + c1 + s2 + c2 + s3 + c3 + s4 + c4 + s5 + c5\n",
      "                            OLS Regression Results                            \n",
      "==============================================================================\n",
      "Dep. Variable:                  count   R-squared:                       0.046\n",
      "Model:                            OLS   Adj. R-squared:                  0.045\n",
      "Method:                 Least Squares   F-statistic:                     56.21\n",
      "Date:                Fri, 20 Apr 2018   Prob (F-statistic):          1.34e-111\n",
      "Time:                        14:14:11   Log-Likelihood:                -70062.\n",
      "No. Observations:               11664   AIC:                         1.401e+05\n",
      "Df Residuals:                   11653   BIC:                         1.402e+05\n",
      "Df Model:                          10                                         \n",
      "Covariance Type:            nonrobust                                         \n",
      "==============================================================================\n",
      "                 coef    std err          t      P>|t|      [0.025      0.975]\n",
      "------------------------------------------------------------------------------\n",
      "Intercept    189.7807      0.910    208.456      0.000     187.996     191.565\n",
      "s1            18.8791      1.287     14.670      0.000      16.357      21.402\n",
      "c1            17.9526      1.288     13.937      0.000      15.428      20.478\n",
      "s2            -6.8589      1.287     -5.329      0.000      -9.382      -4.336\n",
      "c2            -9.9101      1.288     -7.695      0.000     -12.435      -7.386\n",
      "s3             3.8169      1.287      2.965      0.003       1.293       6.340\n",
      "c3             7.0700      1.288      5.491      0.000       4.546       9.594\n",
      "s4            -2.2887      1.288     -1.778      0.076      -4.812       0.235\n",
      "c4            -3.6974      1.287     -2.872      0.004      -6.221      -1.174\n",
      "s5             3.6774      1.288      2.856      0.004       1.153       6.201\n",
      "c5             3.4593      1.287      2.687      0.007       0.936       5.983\n",
      "==============================================================================\n",
      "Omnibus:                     1018.726   Durbin-Watson:                   0.218\n",
      "Prob(Omnibus):                  0.000   Jarque-Bera (JB):              343.300\n",
      "Skew:                          -0.129   Prob(JB):                     2.84e-75\n",
      "Kurtosis:                       2.200   Cond. No.                         1.42\n",
      "==============================================================================\n",
      "\n",
      "Warnings:\n",
      "[1] Standard Errors assume that the covariance matrix of the errors is correctly specified.\n"
     ]
    }
   ],
   "source": [
    "rs = []\n",
    "for k in range(1, K + 1):\n",
    "    rs.append('s'+ str(k))\n",
    "    rs.append('c'+ str(k))\n",
    "\n",
    "print str.join(' + ', rs)\n",
    "\n",
    "m1 = smf.ols('count ~ ' + str.join(' + ', x_names), data=s_data)\n",
    "fitted = m1.fit()\n",
    "print fitted.summary()"
   ]
  },
  {
   "cell_type": "code",
   "execution_count": 42,
   "metadata": {},
   "outputs": [
    {
     "data": {
      "text/plain": [
       "80.462167709089329"
      ]
     },
     "execution_count": 42,
     "metadata": {},
     "output_type": "execute_result"
    }
   ],
   "source": [
    "predictions = fitted.predict(test_data)\n",
    "metrics.mean_absolute_error(test_labels, predictions)"
   ]
  },
  {
   "cell_type": "code",
   "execution_count": 84,
   "metadata": {},
   "outputs": [
    {
     "data": {
      "text/plain": [
       "[<matplotlib.lines.Line2D at 0x759cdf28>]"
      ]
     },
     "execution_count": 84,
     "metadata": {},
     "output_type": "execute_result"
    },
    {
     "data": {
      "image/png": "[encoded data removed]",
      "text/plain": [
       "<matplotlib.figure.Figure at 0x4ffae128>"
      ]
     },
     "metadata": {},
     "output_type": "display_data"
    }
   ],
   "source": [
    "plt.plot(fitted.resid)"
   ]
  },
  {
   "cell_type": "code",
   "execution_count": null,
   "metadata": {
    "collapsed": true
   },
   "outputs": [],
   "source": []
  }
 ],
 "metadata": {
  "kernelspec": {
   "display_name": "Python 2",
   "language": "python",
   "name": "python2"
  },
  "language_info": {
   "codemirror_mode": {
    "name": "ipython",
    "version": 2
   },
   "file_extension": ".py",
   "mimetype": "text/x-python",
   "name": "python",
   "nbconvert_exporter": "python",
   "pygments_lexer": "ipython2",
   "version": "2.7.13"
  }
 },
 "nbformat": 4,
 "nbformat_minor": 2
}
