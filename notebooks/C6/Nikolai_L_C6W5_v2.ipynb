{
 "cells": [
  {
   "cell_type": "code",
   "execution_count": 1,
   "metadata": {},
   "outputs": [
    {
     "name": "stdout",
     "output_type": "stream",
     "text": [
      "Populating the interactive namespace from numpy and matplotlib\n"
     ]
    },
    {
     "name": "stderr",
     "output_type": "stream",
     "text": [
      "c:\\python27\\lib\\site-packages\\statsmodels\\compat\\pandas.py:56: FutureWarning: The pandas.core.datetools module is deprecated and will be removed in a future version. Please use the pandas.tseries module instead.\n",
      "  from pandas.core import datetools\n"
     ]
    }
   ],
   "source": [
    "%pylab inline\n",
    "\n",
    "import numpy as np\n",
    "import pandas as pd\n",
    "from matplotlib import pyplot as plt\n",
    "import math\n",
    "import statsmodels\n",
    "import statsmodels.api as sm\n",
    "import scipy as sc\n",
    "from sklearn import metrics\n",
    "import itertools\n",
    "import statsmodels.formula.api as smf\n",
    "import sklearn.linear_model\n",
    "import sklearn.preprocessing\n",
    "from IPython.display import clear_output\n",
    "import pickle\n",
    "import statsmodels.api as sm"
   ]
  },
  {
   "cell_type": "markdown",
   "metadata": {},
   "source": [
    "Читаем подготовленные данные для сто двух ячеек регионов с каггл"
   ]
  },
  {
   "cell_type": "code",
   "execution_count": 2,
   "metadata": {},
   "outputs": [
    {
     "name": "stdout",
     "output_type": "stream",
     "text": [
      "(1194522, 2)\n"
     ]
    },
    {
     "data": {
      "text/html": [
       "<div>\n",
       "<style scoped>\n",
       "    .dataframe tbody tr th:only-of-type {\n",
       "        vertical-align: middle;\n",
       "    }\n",
       "\n",
       "    .dataframe tbody tr th {\n",
       "        vertical-align: top;\n",
       "    }\n",
       "\n",
       "    .dataframe thead th {\n",
       "        text-align: right;\n",
       "    }\n",
       "</style>\n",
       "<table border=\"1\" class=\"dataframe\">\n",
       "  <thead>\n",
       "    <tr style=\"text-align: right;\">\n",
       "      <th></th>\n",
       "      <th>region</th>\n",
       "      <th>count</th>\n",
       "    </tr>\n",
       "    <tr>\n",
       "      <th>tpep_pickup_datetime</th>\n",
       "      <th></th>\n",
       "      <th></th>\n",
       "    </tr>\n",
       "  </thead>\n",
       "  <tbody>\n",
       "    <tr>\n",
       "      <th>2015-03-01</th>\n",
       "      <td>1075</td>\n",
       "      <td>47.0</td>\n",
       "    </tr>\n",
       "    <tr>\n",
       "      <th>2015-03-01</th>\n",
       "      <td>1076</td>\n",
       "      <td>103.0</td>\n",
       "    </tr>\n",
       "    <tr>\n",
       "      <th>2015-03-01</th>\n",
       "      <td>1077</td>\n",
       "      <td>51.0</td>\n",
       "    </tr>\n",
       "    <tr>\n",
       "      <th>2015-03-01</th>\n",
       "      <td>1125</td>\n",
       "      <td>99.0</td>\n",
       "    </tr>\n",
       "    <tr>\n",
       "      <th>2015-03-01</th>\n",
       "      <td>1126</td>\n",
       "      <td>287.0</td>\n",
       "    </tr>\n",
       "  </tbody>\n",
       "</table>\n",
       "</div>"
      ],
      "text/plain": [
       "                      region  count\n",
       "tpep_pickup_datetime               \n",
       "2015-03-01              1075   47.0\n",
       "2015-03-01              1076  103.0\n",
       "2015-03-01              1077   51.0\n",
       "2015-03-01              1125   99.0\n",
       "2015-03-01              1126  287.0"
      ]
     },
     "execution_count": 2,
     "metadata": {},
     "output_type": "execute_result"
    }
   ],
   "source": [
    "#https://github.com/nlavri/mipt_ya_ml/blob/master/data/stats_kaggle_2015-03_2016-06.dat\n",
    "data = pd.read_pickle('TaxiData/stats_kaggle_2015-03_2016-06.dat')\n",
    "print data.shape\n",
    "data.head()"
   ]
  },
  {
   "cell_type": "markdown",
   "metadata": {},
   "source": [
    "Составим признаки для регресии по каждому региону. Данные каждого региона будем помещать в отдельный фрейм, а потом объединим в один общий, чтобы соответствовать постановке задачи и создать шесть моделей на все регионы сразу, а не на каждый регион по отдельности. \n",
    "\n",
    "После ряда пробных обучений оказалось, что в моем случае признаки основанные на дате, синусах\\косинусах только мешают. При этом заметно помогает уменьшить ошибку увеличение признаков из состоящих из откликов T-k, поэтому менее полезные признаки ниже закоментированны. "
   ]
  },
  {
   "cell_type": "code",
   "execution_count": 3,
   "metadata": {},
   "outputs": [
    {
     "name": "stdout",
     "output_type": "stream",
     "text": [
      "1684\n"
     ]
    }
   ],
   "source": [
    "nModels = 6\n",
    "\n",
    "#K = 60\n",
    "\n",
    "start_time = pd.to_datetime('2015-09-01 00:00:00')\n",
    "end_time = pd.to_datetime('2016-06-30 17:00:00')\n",
    "\n",
    "frames = []\n",
    "\n",
    "for reg in data.region.unique():\n",
    "    clear_output(wait=True)\n",
    "    print reg\n",
    "    sample_data = data[data.region == reg]['count'].sort_index()\n",
    "    \n",
    "    #fix 2016-06-30 23:00:00\n",
    "    sample_data[pd.to_datetime('2016-06-30 23:00:00')] = sample_data[pd.to_datetime('2016-06-30 22:00:00')]\n",
    "    \n",
    "    frame = pd.DataFrame()\n",
    "\n",
    "    frame['data'] = sample_data[start_time:end_time]\n",
    "\n",
    "    frame['region'] = [reg] * frame.shape[0]\n",
    "    \n",
    "    #for k in range(1, K + 1):\n",
    "    #    frame.loc[:,'s'+ str(k)] = np.sin(np.arange(frame.shape[0]) * 2 * np.pi * k / 168)\n",
    "    #    frame.loc[:,'c'+ str(k)] = np.cos(np.arange(frame.shape[0]) * 2 * np.pi * k / 168)\n",
    "\n",
    "    #frame.loc[:, 'day'] = frame.index.map(lambda x: x.day)\n",
    "    #frame.loc[:, 'month'] = frame.index.map(lambda x: x.month)\n",
    "    #frame.loc[:, 'weekday'] = frame.index.map(lambda x: x.weekday())\n",
    "\n",
    "    Khist = 48\n",
    "\n",
    "    for k in range(1, Khist + 1):\n",
    "        t_delta = datetime.timedelta(hours=k)\n",
    "        frame.loc[:, 'data_history_' + str(k)] =  sample_data[start_time - t_delta:end_time - t_delta].values\n",
    "\n",
    "    #Kday = 14\n",
    "        \n",
    "    #for k in range(1, Kday + 1):\n",
    "    #    t_delta = datetime.timedelta(hours=24 * k)\n",
    "    #    frame.loc[:, 'data_history_day_' + str(k)] =  sample_data[start_time - t_delta:end_time - t_delta].values\n",
    "        \n",
    "    for shift in range(1, nModels + 1):\n",
    "        delta = datetime.timedelta(hours=shift)\n",
    "        frame['target_' + str(shift)] = sample_data[start_time + delta:end_time + delta].values\n",
    "\n",
    "    frames.append(frame)"
   ]
  },
  {
   "cell_type": "code",
   "execution_count": 4,
   "metadata": {},
   "outputs": [
    {
     "name": "stdout",
     "output_type": "stream",
     "text": [
      "(743580, 56)\n"
     ]
    }
   ],
   "source": [
    "allData = pd.concat(frames)\n",
    "allData = allData.sort_index()\n",
    "print allData.shape"
   ]
  },
  {
   "cell_type": "markdown",
   "metadata": {},
   "source": [
    "One Hot Encoding для категориальных признаков. В дальнейшем так же НЕ используются, т.к. не доказали свою полезность."
   ]
  },
  {
   "cell_type": "code",
   "execution_count": 28,
   "metadata": {},
   "outputs": [],
   "source": [
    "regionEncode = pd.get_dummies(allData['region'])\n",
    "\n",
    "for col in regionEncode.columns:\n",
    "    allData[col] = regionEncode[col]\n",
    "    regionEncode = regionEncode.drop(col, axis=1)"
   ]
  },
  {
   "cell_type": "code",
   "execution_count": 29,
   "metadata": {},
   "outputs": [],
   "source": [
    "weekDayEncode = pd.get_dummies(allData['weekday'])\n",
    "\n",
    "for col in weekDayEncode.columns:\n",
    "    allData['weekday_' + str(col)] = weekDayEncode[col]\n",
    "    \n",
    "dayEncode = pd.get_dummies(allData['day'])\n",
    "\n",
    "for col in dayEncode.columns:\n",
    "    allData['day_' + str(col)] = dayEncode[col]"
   ]
  },
  {
   "cell_type": "markdown",
   "metadata": {},
   "source": [
    "Обучим модели на данных до конца апреля включительно (последнее Т это '2016-04-30 17:00:00' соответственно последний отклик для T+6 это отклик на '2016-04-30 23:00:00'. Используем регресиию Лассо с регуляризацией L1. В цикле обучение будем подбирать параметр альфа (диапазон выбран эмпирически на отдельных рядах). \n",
    "Для теста используем уже май."
   ]
  },
  {
   "cell_type": "code",
   "execution_count": 28,
   "metadata": {},
   "outputs": [
    {
     "name": "stdout",
     "output_type": "stream",
     "text": [
      " shift 1 alpha is  5 MAE 21.122552556761615\n",
      "shift 1 alpha is  10 MAE 21.10543962706564\n",
      "shift 1 alpha is  15 MAE 21.094521128988323\n",
      "shift 1 alpha is  20 MAE 21.08708584141159\n",
      "shift 1 alpha is  25 MAE 21.08173492908044\n",
      "shift 1 alpha is  30 MAE 21.080104082555252\n",
      "shift 1 alpha is  35 MAE 21.080773273936845\n",
      "shift 1 alpha is  40 MAE 21.084328949381007\n",
      "shift 1 alpha is  45 MAE 21.089314678307822\n",
      "shift 1 alpha is  50 MAE 21.09604076033201\n",
      "shift 1 alpha is  55 MAE 21.105192436906275\n",
      "shift 1 alpha is  60 MAE 21.116969163796185\n",
      "shift 1 alpha is  65 MAE 21.13110411376902\n",
      "shift 1 alpha is  70 MAE 21.149155111429494\n",
      "shift 1 alpha is  75 MAE 21.167262320409833\n",
      "shift 1 alpha is  80 MAE 21.187462423330693\n",
      "shift 1 alpha is  85 MAE 21.208948338370114\n",
      "shift 1 alpha is  90 MAE 21.23260094971326\n",
      "shift 1 alpha is  95 MAE 21.258498732703305\n",
      "shift 1 best alpha is  30 MAE 21.080104082555252\n",
      "shift 2 alpha is  5 MAE 28.864900445905022\n",
      "shift 2 alpha is  10 MAE 28.839860598610176\n",
      "shift 2 alpha is  15 MAE 28.824322347574974\n",
      "shift 2 alpha is  20 MAE 28.81391311370114\n",
      "shift 2 alpha is  25 MAE 28.804147530195692\n",
      "shift 2 alpha is  30 MAE 28.797580563442043\n",
      "shift 2 alpha is  35 MAE 28.7932696626251\n",
      "shift 2 alpha is  40 MAE 28.79196756715266\n",
      "shift 2 alpha is  45 MAE 28.790849169432036\n",
      "shift 2 alpha is  50 MAE 28.791991521251223\n",
      "shift 2 alpha is  55 MAE 28.7951636037993\n",
      "shift 2 alpha is  60 MAE 28.79991153416348\n",
      "shift 2 alpha is  65 MAE 28.802153578685505\n",
      "shift 2 alpha is  70 MAE 28.803840787049957\n",
      "shift 2 alpha is  75 MAE 28.803167266226357\n",
      "shift 2 alpha is  80 MAE 28.802753259700125\n",
      "shift 2 alpha is  85 MAE 28.80452520454014\n",
      "shift 2 alpha is  90 MAE 28.807766016610813\n",
      "shift 2 alpha is  95 MAE 28.811099900441135\n",
      "shift 2 best alpha is  45 MAE 28.790849169432036\n",
      "shift 3 alpha is  5 MAE 32.613403960753026\n",
      "shift 3 alpha is  10 MAE 32.59281899332244\n",
      "shift 3 alpha is  15 MAE 32.57744270510442\n",
      "shift 3 alpha is  20 MAE 32.568091927726876\n",
      "shift 3 alpha is  25 MAE 32.562739009089945\n",
      "shift 3 alpha is  30 MAE 32.55442515881972\n",
      "shift 3 alpha is  35 MAE 32.546779323980914\n",
      "shift 3 alpha is  40 MAE 32.542089614732156\n",
      "shift 3 alpha is  45 MAE 32.539528319565584\n",
      "shift 3 alpha is  50 MAE 32.536723777913856\n",
      "shift 3 alpha is  55 MAE 32.53691226976218\n",
      "shift 3 alpha is  60 MAE 32.539338007778746\n",
      "shift 3 alpha is  65 MAE 32.54372014469666\n",
      "shift 3 alpha is  70 MAE 32.55023245614318\n",
      "shift 3 alpha is  75 MAE 32.55972585277253\n",
      "shift 3 alpha is  80 MAE 32.56861059838812\n",
      "shift 3 alpha is  85 MAE 32.57747518478961\n",
      "shift 3 alpha is  90 MAE 32.58412543654732\n",
      "shift 3 alpha is  95 MAE 32.59011331743786\n",
      "shift 3 best alpha is  50 MAE 32.536723777913856\n",
      "shift 4 alpha is  5 MAE 34.54709580705775\n",
      "shift 4 alpha is  10 MAE 34.53799054512667\n",
      "shift 4 alpha is  15 MAE 34.53231450591037\n",
      "shift 4 alpha is  20 MAE 34.52960371058042\n",
      "shift 4 alpha is  25 MAE 34.52392834937834\n",
      "shift 4 alpha is  30 MAE 34.51424933665215\n",
      "shift 4 alpha is  35 MAE 34.506765921034784\n",
      "shift 4 alpha is  40 MAE 34.500563154533076\n",
      "shift 4 alpha is  45 MAE 34.49348957435602\n",
      "shift 4 alpha is  50 MAE 34.48718352610125\n",
      "shift 4 alpha is  55 MAE 34.481332398641406\n",
      "shift 4 alpha is  60 MAE 34.47877806029617\n",
      "shift 4 alpha is  65 MAE 34.47841073268135\n",
      "shift 4 alpha is  70 MAE 34.47974415525252\n",
      "shift 4 alpha is  75 MAE 34.4828468280807\n",
      "shift 4 alpha is  80 MAE 34.48879493069645\n",
      "shift 4 alpha is  85 MAE 34.493995508297026\n",
      "shift 4 alpha is  90 MAE 34.500557829686265\n",
      "shift 4 alpha is  95 MAE 34.50608627490786\n",
      "shift 4 best alpha is  65 MAE 34.47841073268135\n",
      "shift 5 alpha is  5 MAE 35.25683500754286\n",
      "shift 5 alpha is  10 MAE 35.24531983755458\n",
      "shift 5 alpha is  15 MAE 35.23822095623234\n",
      "shift 5 alpha is  20 MAE 35.23458455756399\n",
      "shift 5 alpha is  25 MAE 35.233370026067924\n",
      "shift 5 alpha is  30 MAE 35.23629462518784\n",
      "shift 5 alpha is  35 MAE 35.2328723614998\n",
      "shift 5 alpha is  40 MAE 35.2285359238216\n",
      "shift 5 alpha is  45 MAE 35.22619296777464\n",
      "shift 5 alpha is  50 MAE 35.22337033581301\n",
      "shift 5 alpha is  55 MAE 35.220547800071635\n",
      "shift 5 alpha is  60 MAE 35.21828342964008\n",
      "shift 5 alpha is  65 MAE 35.219393047218325\n",
      "shift 5 alpha is  70 MAE 35.21401108258924\n",
      "shift 5 alpha is  75 MAE 35.20893150360828\n",
      "shift 5 alpha is  80 MAE 35.204880360887046\n",
      "shift 5 alpha is  85 MAE 35.19991205240919\n",
      "shift 5 alpha is  90 MAE 35.1984981660193\n",
      "shift 5 alpha is  95 MAE 35.19849036298704\n",
      "shift 5 best alpha is  95 MAE 35.19849036298704\n",
      "shift 6 alpha is  5 MAE 35.383838415197424\n",
      "shift 6 alpha is  10 MAE 35.36955491315201\n",
      "shift 6 alpha is  15 MAE 35.3586094246301\n",
      "shift 6 alpha is  20 MAE 35.35132423160179\n",
      "shift 6 alpha is  25 MAE 35.34791009819037\n",
      "shift 6 alpha is  30 MAE 35.345327296544326\n",
      "shift 6 alpha is  35 MAE 35.34692569143035\n",
      "shift 6 alpha is  40 MAE 35.34461981308666\n",
      "shift 6 alpha is  45 MAE 35.344988112145714\n",
      "shift 6 alpha is  50 MAE 35.33993478466419\n",
      "shift 6 alpha is  55 MAE 35.33232602933076\n",
      "shift 6 alpha is  60 MAE 35.32734075072206\n",
      "shift 6 alpha is  65 MAE 35.32397587116127\n",
      "shift 6 alpha is  70 MAE 35.32286845353124\n",
      "shift 6 alpha is  75 MAE 35.319842983119074\n",
      "shift 6 alpha is  80 MAE 35.31790612739266\n",
      "shift 6 alpha is  85 MAE 35.31759119703683\n",
      "shift 6 alpha is  90 MAE 35.31873223174614\n",
      "shift 6 alpha is  95 MAE 35.32092364509357\n",
      "shift 6 best alpha is  85 MAE 35.31759119703683\n"
     ]
    }
   ],
   "source": [
    "train_from = pd.to_datetime('2016-02-01 00:00:00')\n",
    "train_to = pd.to_datetime('2016-04-30 17:00:00')\n",
    "\n",
    "x_names = []\n",
    "\n",
    "x_names.append('region')\n",
    "#for reg in allData['region'].unique():\n",
    "#    x_names.append(reg)\n",
    "\n",
    "#for col in weekDayEncode.columns:\n",
    "#    x_names.append('weekday_' + str(col))\n",
    "\n",
    "#for col in dayEncode.columns:\n",
    "#    x_names.append('day_' + str(col))\n",
    "\n",
    "#for k in range(1, K + 1):\n",
    "#    x_names.append('s'+ str(k))\n",
    "#    x_names.append('c'+ str(k))\n",
    "\n",
    "x_names.append('data')    \n",
    "\n",
    "for k in range(1, Khist + 1):\n",
    "    x_names.append('data_history_' + str(k))\n",
    "    \n",
    "#for k in range(1, Kday + 1):\n",
    "#    x_names.append('data_history_day_' + str(k))\n",
    "\n",
    "\n",
    "test_from = pd.to_datetime('2016-04-30 23:00:00')\n",
    "test_to = pd.to_datetime('2016-05-31 17:00:00')\n",
    "\n",
    "alphas = np.arange(5, 100, 5)\n",
    "\n",
    "topModels = {}\n",
    "topAlphas = {}        \n",
    "for shift in range(1, nModels + 1):\n",
    "    bestModel = None\n",
    "    bestAlpha = 0\n",
    "    bestMae = sys.maxint\n",
    "\n",
    "    for alpha in alphas:\n",
    "\n",
    "        print 'shift', shift, 'alpha is ', alpha, \n",
    "        \n",
    "        m = sklearn.linear_model.Lasso(alpha=alpha)\n",
    "\n",
    "        trainF = allData[train_from : train_to]\n",
    "        fitted = m.fit(trainF[x_names], trainF['target_' + str(shift)])\n",
    "\n",
    "        mae = metrics.mean_absolute_error(allData[test_from : test_to]['target_' + str(shift)],\n",
    "                                          fitted.predict(allData[test_from : test_to][x_names]))\n",
    "        \n",
    "        if mae < bestMae:\n",
    "            bestMae = mae\n",
    "            bestModel = fitted\n",
    "            bestAlpha = alpha\n",
    "        \n",
    "        print 'MAE',  mae\n",
    "\n",
    "    topModels[shift] = bestModel\n",
    "    topAlphas[shift] = bestAlpha\n",
    "    print 'shift', shift, 'best alpha is ', bestAlpha, 'MAE', bestMae\n"
   ]
  },
  {
   "cell_type": "code",
   "execution_count": 29,
   "metadata": {},
   "outputs": [
    {
     "data": {
      "text/plain": [
       "{1: 30, 2: 45, 3: 50, 4: 65, 5: 95, 6: 85}"
      ]
     },
     "execution_count": 29,
     "metadata": {},
     "output_type": "execute_result"
    }
   ],
   "source": [
    "topAlphas"
   ]
  },
  {
   "cell_type": "markdown",
   "metadata": {},
   "source": [
    "Уточним альфы для каждой из шести моделей"
   ]
  },
  {
   "cell_type": "code",
   "execution_count": 38,
   "metadata": {},
   "outputs": [
    {
     "name": "stdout",
     "output_type": "stream",
     "text": [
      " shift 1 alpha is  29 MAE 21.08019712966646\n",
      "shift 1 alpha is  30 MAE 21.080104082555252\n",
      "shift 1 alpha is  31 MAE 21.080109513699828\n",
      "shift 1 best alpha is  30 MAE 21.080104082555252\n",
      "shift 2 alpha is  44 MAE 28.79123568906081\n",
      "shift 2 alpha is  45 MAE 28.790849169432036\n",
      "shift 2 alpha is  46 MAE 28.79064545065798\n",
      "shift 2 alpha is  47 MAE 28.790915733855737\n",
      "shift 2 best alpha is  46 MAE 28.79064545065798\n",
      "shift 3 alpha is  48 MAE 32.53717584992565\n",
      "shift 3 alpha is  49 MAE 32.53693364494074\n",
      "shift 3 alpha is  50 MAE 32.536723777913856\n",
      "shift 3 alpha is  51 MAE 32.53661211594691\n",
      "shift 3 alpha is  52 MAE 32.53658299967899\n",
      "shift 3 alpha is  53 MAE 32.53664217211369\n",
      "shift 3 alpha is  54 MAE 32.53673163367521\n",
      "shift 3 alpha is  55 MAE 32.53691226976218\n",
      "shift 3 alpha is  56 MAE 32.53721703127389\n",
      "shift 3 alpha is  57 MAE 32.537613338791324\n",
      "shift 3 alpha is  58 MAE 32.53814897865414\n",
      "shift 3 alpha is  59 MAE 32.53868826970786\n",
      "shift 3 alpha is  60 MAE 32.539338007778746\n",
      "shift 3 alpha is  61 MAE 32.54005831265195\n",
      "shift 3 alpha is  62 MAE 32.540808725010145\n",
      "shift 3 best alpha is  52 MAE 32.53658299967899\n",
      "shift 4 alpha is  63 MAE 34.47834483598145\n",
      "shift 4 alpha is  64 MAE 34.47831811183521\n",
      "shift 4 alpha is  65 MAE 34.47841073268135\n",
      "shift 4 alpha is  66 MAE 34.47850268423739\n",
      "shift 4 best alpha is  64 MAE 34.47831811183521\n",
      "shift 5 alpha is  92 MAE 35.198357909288056\n",
      "shift 5 alpha is  93 MAE 35.19827849631967\n",
      "shift 5 alpha is  94 MAE 35.19835755771\n",
      "shift 5 alpha is  95 MAE 35.19849036298704\n",
      "shift 5 alpha is  96 MAE 35.19857680541086\n",
      "shift 5 best alpha is  93 MAE 35.19827849631967\n",
      "shift 6 alpha is  80 MAE 35.31790612739266\n",
      "shift 6 alpha is  81 MAE 35.31767047531387\n",
      "shift 6 alpha is  82 MAE 35.31751256609459\n",
      "shift 6 alpha is  83 MAE 35.31739335546368\n",
      "shift 6 alpha is  84 MAE 35.317422111106865\n",
      "shift 6 alpha is  85 MAE 35.31759119703683\n",
      "shift 6 alpha is  86 MAE 35.317752512534064\n",
      "shift 6 alpha is  87 MAE 35.31793324452859\n",
      "shift 6 alpha is  88 MAE 35.31815655228402\n",
      "shift 6 best alpha is  83 MAE 35.31739335546368\n"
     ]
    }
   ],
   "source": [
    "train_from = pd.to_datetime('2016-02-01 00:00:00')\n",
    "train_to = pd.to_datetime('2016-04-30 17:00:00')\n",
    "\n",
    "x_names = []\n",
    "\n",
    "x_names.append('region')\n",
    "#for reg in allData['region'].unique():\n",
    "#    x_names.append(reg)\n",
    "\n",
    "#for col in weekDayEncode.columns:\n",
    "#    x_names.append('weekday_' + str(col))\n",
    "\n",
    "#for col in dayEncode.columns:\n",
    "#    x_names.append('day_' + str(col))\n",
    "\n",
    "#for k in range(1, K + 1):\n",
    "#    x_names.append('s'+ str(k))\n",
    "#    x_names.append('c'+ str(k))\n",
    "\n",
    "x_names.append('data')    \n",
    "\n",
    "for k in range(1, Khist + 1):\n",
    "    x_names.append('data_history_' + str(k))\n",
    "    \n",
    "#for k in range(1, Kday + 1):\n",
    "#    x_names.append('data_history_day_' + str(k))\n",
    "\n",
    "\n",
    "test_from = pd.to_datetime('2016-04-30 23:00:00')\n",
    "test_to = pd.to_datetime('2016-05-31 17:00:00')\n",
    "\n",
    "alphas = {1: np.arange(29, 32, 1), 2: np.arange(44, 48, 1), 3: np.arange(48, 63, 1), \n",
    "          4: np.arange(63, 67, 1), 5: np.arange(92, 97, 1), 6:  np.arange(80, 89, 1)}\n",
    "\n",
    "topModels = {}\n",
    "topAlphas = {}        \n",
    "for shift in range(1, nModels + 1):\n",
    "    bestModel = None\n",
    "    bestAlpha = 0\n",
    "    bestMae = sys.maxint\n",
    "\n",
    "    for alpha in alphas[shift]:\n",
    "\n",
    "        print 'shift', shift, 'alpha is ', alpha, \n",
    "        \n",
    "        m = sklearn.linear_model.Lasso(alpha=alpha)\n",
    "\n",
    "        trainF = allData[train_from : train_to]\n",
    "        fitted = m.fit(trainF[x_names], trainF['target_' + str(shift)])\n",
    "\n",
    "        mae = metrics.mean_absolute_error(allData[test_from : test_to]['target_' + str(shift)],\n",
    "                                          fitted.predict(allData[test_from : test_to][x_names]))\n",
    "        \n",
    "        if mae < bestMae:\n",
    "            bestMae = mae\n",
    "            bestModel = fitted\n",
    "            bestAlpha = alpha\n",
    "        \n",
    "        print 'MAE',  mae\n",
    "\n",
    "    topModels[shift] = bestModel\n",
    "    topAlphas[shift] = bestAlpha\n",
    "    print 'shift', shift, 'best alpha is ', bestAlpha, 'MAE', bestMae\n"
   ]
  },
  {
   "cell_type": "code",
   "execution_count": 39,
   "metadata": {},
   "outputs": [
    {
     "data": {
      "text/plain": [
       "{1: 30, 2: 46, 3: 52, 4: 64, 5: 93, 6: 83}"
      ]
     },
     "execution_count": 39,
     "metadata": {},
     "output_type": "execute_result"
    }
   ],
   "source": [
    "topAlphas"
   ]
  },
  {
   "cell_type": "markdown",
   "metadata": {},
   "source": [
    "Посчитаем метрику за май итеративно по каждому региону"
   ]
  },
  {
   "cell_type": "code",
   "execution_count": 43,
   "metadata": {},
   "outputs": [
    {
     "name": "stdout",
     "output_type": "stream",
     "text": [
      "region  1684 region MAE 37745.257078123 total MAE 14125936.887141982\n"
     ]
    }
   ],
   "source": [
    "test_from = pd.to_datetime('2016-04-30 23:00:00')\n",
    "\n",
    "\n",
    "totalMay = 0\n",
    "regMaes = []\n",
    "for reg in data.region.unique():\n",
    "    regMae = 0  \n",
    "    regData = allData[allData['region'] == reg]\n",
    "    \n",
    "    for ix in range(0, 739):\n",
    "        tPred = test_from + datetime.timedelta(hours=ix)\n",
    "        \n",
    "        maes = []\n",
    "        for shift in range(1, nModels + 1):\n",
    "            mae = metrics.mean_absolute_error(regData[tPred:tPred]['target_' + str(shift)], \n",
    "                                              topModels[shift].predict(regData[tPred:tPred][x_names]))\n",
    "            maes.append(mae)\n",
    "        iterMae = np.sum(maes)\n",
    "        #print 'test mae is ', np.mean(maes)\n",
    "        regMae += iterMae\n",
    "    totalMay += regMae \n",
    "    regMaes.append(regMae)\n",
    "    clear_output(wait=True)\n",
    "    print 'region ', reg, 'region MAE', regMae, 'total MAE', totalMay"
   ]
  },
  {
   "cell_type": "code",
   "execution_count": 44,
   "metadata": {},
   "outputs": [
    {
     "name": "stdout",
     "output_type": "stream",
     "text": [
      "31.233553749418448\n"
     ]
    }
   ],
   "source": [
    "Qmay = totalMay / (data.region.unique().shape[0] * 739 * 6)\n",
    "print Qmay"
   ]
  },
  {
   "cell_type": "markdown",
   "metadata": {},
   "source": [
    "Предыдущее значение метрики за май было 33.04337465998621. Есть некоторое улучшение."
   ]
  },
  {
   "cell_type": "markdown",
   "metadata": {},
   "source": [
    "Посчитаем метрику за июнь итеративно по каждому региону"
   ]
  },
  {
   "cell_type": "code",
   "execution_count": 55,
   "metadata": {},
   "outputs": [
    {
     "name": "stdout",
     "output_type": "stream",
     "text": [
      "region  1684 region MAE 37501.62292749149 total MAE 14125936.887141982\n"
     ]
    }
   ],
   "source": [
    "test_from = pd.to_datetime('2016-05-31 23:00:00')\n",
    "\n",
    "juneResults = []\n",
    "\n",
    "totalJune = 0\n",
    "regMaes = []\n",
    "for reg in data.region.unique():\n",
    "    regMae = 0  \n",
    "    regData = allData[allData['region'] == reg]\n",
    "    \n",
    "    for ix in range(0, 715):\n",
    "        tPred = test_from + datetime.timedelta(hours=ix)\n",
    "        \n",
    "        maes = []\n",
    "        for shift in range(1, nModels + 1):\n",
    "            pred = topModels[shift].predict(regData[tPred:tPred][x_names])\n",
    "            \n",
    "            pdId = str.format(\"{0}_{1}_{2}_{3}\",reg,tPred.date(), tPred.hour, shift)\n",
    "            juneResults.append((pdId, pred[0]))\n",
    "            \n",
    "            mae = metrics.mean_absolute_error(regData[tPred:tPred]['target_' + str(shift)], pred)\n",
    "            maes.append(mae)\n",
    "        iterMae = np.sum(maes)\n",
    "        #print 'test mae is ', np.mean(maes)\n",
    "        regMae += iterMae\n",
    "    totalJune += regMae \n",
    "    regMaes.append(regMae)\n",
    "    clear_output(wait=True)\n",
    "    print 'region ', reg, 'region MAE', regMae, 'total MAE', totalMay"
   ]
  },
  {
   "cell_type": "code",
   "execution_count": 56,
   "metadata": {},
   "outputs": [
    {
     "name": "stdout",
     "output_type": "stream",
     "text": [
      "29.45654190596134\n"
     ]
    }
   ],
   "source": [
    "Qjune = totalJune / (data.region.unique().shape[0] * 715 * 6)\n",
    "print Qjune"
   ]
  },
  {
   "cell_type": "markdown",
   "metadata": {},
   "source": [
    "Предыдущее значение метрики за июнь было 31.50576641207743. Есть некоторое улучшение."
   ]
  },
  {
   "cell_type": "code",
   "execution_count": 57,
   "metadata": {},
   "outputs": [
    {
     "name": "stdout",
     "output_type": "stream",
     "text": [
      "437580\n"
     ]
    }
   ],
   "source": [
    "print len(juneResults)"
   ]
  },
  {
   "cell_type": "code",
   "execution_count": 59,
   "metadata": {},
   "outputs": [],
   "source": [
    "juneDf = pd.DataFrame(juneResults)\n",
    "juneDf.to_csv('TaxiData/w5_kaggle.csv',index=False)"
   ]
  },
  {
   "cell_type": "markdown",
   "metadata": {},
   "source": [
    "Ссылка на сабмишен https://www.kaggle.com/submissions/7474762/7474762.zip"
   ]
  },
  {
   "cell_type": "code",
   "execution_count": null,
   "metadata": {},
   "outputs": [],
   "source": []
  }
 ],
 "metadata": {
  "kernelspec": {
   "display_name": "Python 2",
   "language": "python",
   "name": "python2"
  },
  "language_info": {
   "codemirror_mode": {
    "name": "ipython",
    "version": 2
   },
   "file_extension": ".py",
   "mimetype": "text/x-python",
   "name": "python",
   "nbconvert_exporter": "python",
   "pygments_lexer": "ipython2",
   "version": "2.7.13"
  }
 },
 "nbformat": 4,
 "nbformat_minor": 2
}
