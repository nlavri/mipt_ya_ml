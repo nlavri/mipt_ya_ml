{
 "cells": [
  {
   "cell_type": "code",
   "execution_count": 1,
   "metadata": {},
   "outputs": [
    {
     "name": "stdout",
     "output_type": "stream",
     "text": [
      "Populating the interactive namespace from numpy and matplotlib\n",
      "0.72\n"
     ]
    }
   ],
   "source": [
    "%pylab inline\n",
    "\n",
    "import numpy as np\n",
    "import pandas as pd\n",
    "from matplotlib import pyplot as plt\n",
    "from scipy.stats import boxcox\n",
    "from sklearn import metrics\n",
    "from xgboost import XGBRegressor\n",
    "from pandas.tseries.holiday import get_calendar, USFederalHolidayCalendar\n",
    "from IPython.display import clear_output\n",
    "import pickle\n",
    "import xgboost\n",
    "print xgboost.__version__"
   ]
  },
  {
   "cell_type": "markdown",
   "metadata": {},
   "source": [
    "Читаем подготовленные данные для сто двух ячеек регионов с каггл. Добавлены новые данные - средняя длина поездки, среднее количество пассажиров, средняя стоимость поездки (без налогов и платных дорог)"
   ]
  },
  {
   "cell_type": "code",
   "execution_count": 2,
   "metadata": {},
   "outputs": [
    {
     "name": "stdout",
     "output_type": "stream",
     "text": [
      "(521322, 8)\n"
     ]
    },
    {
     "data": {
      "text/html": [
       "<div>\n",
       "<style scoped>\n",
       "    .dataframe tbody tr th:only-of-type {\n",
       "        vertical-align: middle;\n",
       "    }\n",
       "\n",
       "    .dataframe tbody tr th {\n",
       "        vertical-align: top;\n",
       "    }\n",
       "\n",
       "    .dataframe thead th {\n",
       "        text-align: right;\n",
       "    }\n",
       "</style>\n",
       "<table border=\"1\" class=\"dataframe\">\n",
       "  <thead>\n",
       "    <tr style=\"text-align: right;\">\n",
       "      <th></th>\n",
       "      <th>region</th>\n",
       "      <th>trip_distance_mean</th>\n",
       "      <th>tolls_amount_mean</th>\n",
       "      <th>tip_amount_mean</th>\n",
       "      <th>fare_amount_mean</th>\n",
       "      <th>count</th>\n",
       "      <th>passenger_mean</th>\n",
       "      <th>duration</th>\n",
       "    </tr>\n",
       "    <tr>\n",
       "      <th>tpep_pickup_datetime</th>\n",
       "      <th></th>\n",
       "      <th></th>\n",
       "      <th></th>\n",
       "      <th></th>\n",
       "      <th></th>\n",
       "      <th></th>\n",
       "      <th></th>\n",
       "      <th></th>\n",
       "    </tr>\n",
       "  </thead>\n",
       "  <tbody>\n",
       "    <tr>\n",
       "      <th>2015-12-01</th>\n",
       "      <td>1075</td>\n",
       "      <td>4.802105</td>\n",
       "      <td>0.874737</td>\n",
       "      <td>3.553158</td>\n",
       "      <td>16.052632</td>\n",
       "      <td>19.0</td>\n",
       "      <td>1.789474</td>\n",
       "      <td>00:13:41.263157</td>\n",
       "    </tr>\n",
       "    <tr>\n",
       "      <th>2015-12-01</th>\n",
       "      <td>1076</td>\n",
       "      <td>5.043721</td>\n",
       "      <td>0.870930</td>\n",
       "      <td>3.075814</td>\n",
       "      <td>17.662791</td>\n",
       "      <td>43.0</td>\n",
       "      <td>1.418605</td>\n",
       "      <td>00:15:07.209302</td>\n",
       "    </tr>\n",
       "    <tr>\n",
       "      <th>2015-12-01</th>\n",
       "      <td>1077</td>\n",
       "      <td>3.607692</td>\n",
       "      <td>0.213077</td>\n",
       "      <td>2.975769</td>\n",
       "      <td>12.769231</td>\n",
       "      <td>26.0</td>\n",
       "      <td>2.076923</td>\n",
       "      <td>00:10:46.923076</td>\n",
       "    </tr>\n",
       "    <tr>\n",
       "      <th>2015-12-01</th>\n",
       "      <td>1125</td>\n",
       "      <td>4.318947</td>\n",
       "      <td>0.398553</td>\n",
       "      <td>2.613289</td>\n",
       "      <td>17.203947</td>\n",
       "      <td>76.0</td>\n",
       "      <td>1.565789</td>\n",
       "      <td>00:13:38.013157</td>\n",
       "    </tr>\n",
       "    <tr>\n",
       "      <th>2015-12-01</th>\n",
       "      <td>1126</td>\n",
       "      <td>4.824725</td>\n",
       "      <td>0.243516</td>\n",
       "      <td>2.555604</td>\n",
       "      <td>16.362637</td>\n",
       "      <td>91.0</td>\n",
       "      <td>1.659341</td>\n",
       "      <td>00:30:16.164835</td>\n",
       "    </tr>\n",
       "  </tbody>\n",
       "</table>\n",
       "</div>"
      ],
      "text/plain": [
       "                      region  trip_distance_mean  tolls_amount_mean  \\\n",
       "tpep_pickup_datetime                                                  \n",
       "2015-12-01              1075            4.802105           0.874737   \n",
       "2015-12-01              1076            5.043721           0.870930   \n",
       "2015-12-01              1077            3.607692           0.213077   \n",
       "2015-12-01              1125            4.318947           0.398553   \n",
       "2015-12-01              1126            4.824725           0.243516   \n",
       "\n",
       "                      tip_amount_mean  fare_amount_mean  count  \\\n",
       "tpep_pickup_datetime                                             \n",
       "2015-12-01                   3.553158         16.052632   19.0   \n",
       "2015-12-01                   3.075814         17.662791   43.0   \n",
       "2015-12-01                   2.975769         12.769231   26.0   \n",
       "2015-12-01                   2.613289         17.203947   76.0   \n",
       "2015-12-01                   2.555604         16.362637   91.0   \n",
       "\n",
       "                      passenger_mean        duration  \n",
       "tpep_pickup_datetime                                  \n",
       "2015-12-01                  1.789474 00:13:41.263157  \n",
       "2015-12-01                  1.418605 00:15:07.209302  \n",
       "2015-12-01                  2.076923 00:10:46.923076  \n",
       "2015-12-01                  1.565789 00:13:38.013157  \n",
       "2015-12-01                  1.659341 00:30:16.164835  "
      ]
     },
     "execution_count": 2,
     "metadata": {},
     "output_type": "execute_result"
    }
   ],
   "source": [
    "#https://github.com/nlavri/mipt_ya_ml/blob/master/data/stats_kaggle_2015-12_2016-06_ext.dat\n",
    "data = pd.read_pickle('TaxiData/stats_kaggle_2015-12_2016-06_ext.dat')\n",
    "print data.shape\n",
    "data.head()"
   ]
  },
  {
   "cell_type": "markdown",
   "metadata": {},
   "source": [
    "Составим признаки для регресии по каждому региону. Данные каждого региона будем помещать в отдельный фрейм, а потом объединим в один общий, чтобы соответствовать постановке задачи и создать шесть моделей на все регионы сразу, а не на каждый регион по отдельности. "
   ]
  },
  {
   "cell_type": "code",
   "execution_count": 3,
   "metadata": {},
   "outputs": [
    {
     "name": "stdout",
     "output_type": "stream",
     "text": [
      "2168\n"
     ]
    }
   ],
   "source": [
    "def getDayPart(date_time):\n",
    "   \n",
    "    if (date_time.weekday() == 6 or date_time.weekday() == 5):\n",
    "        if 4 <= date_time.hour and date_time.hour <= 8:\n",
    "            return 0;\n",
    "        if 9 <= date_time.hour and date_time.hour <= 18:\n",
    "            return 1;\n",
    "        if 19 <= date_time.hour or date_time.hour <= 5:\n",
    "            return 0;\n",
    "        \n",
    "    else:\n",
    "        if 1 <= date_time.hour and date_time.hour <= 6:\n",
    "            return 0;\n",
    "        if 7 <= date_time.hour and date_time.hour <= 18:\n",
    "            return 1;\n",
    "        if 19 <= date_time.hour and date_time.hour <= 23:\n",
    "            return 2;\n",
    "        if 23 < date_time.hour or date_time.hour == 0:\n",
    "            return 0;\n",
    "\n",
    "nModels = 6\n",
    "\n",
    "K = 40\n",
    "\n",
    "start_time = pd.to_datetime('2016-01-01 00:00:00')\n",
    "end_time = pd.to_datetime('2016-06-30 17:00:00')\n",
    "\n",
    "frames = []\n",
    "\n",
    "for reg in data.region.unique():\n",
    "    clear_output(wait=True)\n",
    "    print reg\n",
    "    sample_data = data[data.region == reg]\n",
    "    \n",
    "    #fix 2016-06-30 23:00:00\n",
    "    sample_data['count'][pd.to_datetime('2016-06-30 23:00:00')] = sample_data['count'][pd.to_datetime('2016-06-30 22:00:00')]\n",
    "    \n",
    "    frame = pd.DataFrame()\n",
    "\n",
    "    cntData = sample_data[start_time:end_time]['count']\n",
    "    frame['data'] = cntData\n",
    "    frame['data_bc'] = boxcox(cntData + cntData.mean())[0]\n",
    "    \n",
    "    frame['passenger_mean'] = sample_data[start_time:end_time]['passenger_mean']\n",
    "    frame['trip_distance_mean'] = sample_data[start_time:end_time]['trip_distance_mean']\n",
    "    frame['duration'] = sample_data[start_time:end_time]['duration']\n",
    "    \n",
    "    frame['fare_amount_mean'] = sample_data[start_time:end_time]['fare_amount_mean']\n",
    "    frame['tip_amount_mean'] = sample_data[start_time:end_time]['tip_amount_mean']\n",
    "    frame['tolls_amount_mean'] = sample_data[start_time:end_time]['tolls_amount_mean']\n",
    "    \n",
    "    frame['region'] = [reg] * frame.shape[0]\n",
    "    \n",
    "    for k in range(1, K + 1):\n",
    "        frame.loc[:,'s'+ str(k)] = np.sin(np.arange(frame.shape[0]) * 2 * np.pi * k / 168)\n",
    "        frame.loc[:,'c'+ str(k)] = np.cos(np.arange(frame.shape[0]) * 2 * np.pi * k / 168)\n",
    "\n",
    "    frame.loc[:, 'day_part'] = frame.index.map(getDayPart)\n",
    "    frame.loc[:, 'day'] = frame.index.map(lambda x: x.day)\n",
    "    frame.loc[:, 'month'] = frame.index.map(lambda x: x.month)\n",
    "    frame.loc[:, 'weekday'] = frame.index.map(lambda x: x.weekday())\n",
    "\n",
    "        \n",
    "    Khist = 48\n",
    "\n",
    "    for k in range(1, Khist + 1):\n",
    "        t_delta = datetime.timedelta(hours=k)\n",
    "        historyData = sample_data['count'][start_time - t_delta:end_time - t_delta]\n",
    "        frame.loc[:, 'data_history_' + str(k)] = historyData.values\n",
    "\n",
    "    for shift in range(1, nModels + 1):\n",
    "        delta = datetime.timedelta(hours=shift)\n",
    "        frame['target_' + str(shift)] = sample_data['count'][start_time + delta:end_time + delta].values\n",
    "\n",
    "    frames.append(frame)"
   ]
  },
  {
   "cell_type": "code",
   "execution_count": 4,
   "metadata": {},
   "outputs": [
    {
     "name": "stdout",
     "output_type": "stream",
     "text": [
      "(444924, 147)\n"
     ]
    }
   ],
   "source": [
    "allData = pd.concat(frames)\n",
    "allData = allData.sort_index()\n",
    "print allData.shape"
   ]
  },
  {
   "cell_type": "code",
   "execution_count": 5,
   "metadata": {},
   "outputs": [],
   "source": [
    "allData['duration'] = allData['duration'].dt.total_seconds().astype(int)"
   ]
  },
  {
   "cell_type": "code",
   "execution_count": null,
   "metadata": {},
   "outputs": [],
   "source": []
  },
  {
   "cell_type": "markdown",
   "metadata": {},
   "source": [
    "Обучим модели на данных до конца апреля включительно (последнее Т это '2016-04-30 17:00:00' соответственно последний отклик для T+6 это отклик на '2016-04-30 23:00:00'. Используем XGBRegressor. \n",
    "Для теста используем уже май."
   ]
  },
  {
   "cell_type": "code",
   "execution_count": 6,
   "metadata": {},
   "outputs": [],
   "source": [
    "train_from = pd.to_datetime('2016-02-01 00:00:00')\n",
    "train_to = pd.to_datetime('2016-04-30 17:00:00')\n",
    "\n",
    "x_names = []\n",
    "\n",
    "x_names.append('region')\n",
    "\n",
    "x_names.append('passenger_mean')\n",
    "x_names.append('trip_distance_mean')\n",
    "x_names.append('duration')\n",
    "    \n",
    "x_names.append('fare_amount_mean')\n",
    "x_names.append('tip_amount_mean')\n",
    "x_names.append('tolls_amount_mean')\n",
    "    \n",
    "\n",
    "for k in range(1, K + 1):\n",
    "    x_names.append('s'+ str(k))\n",
    "    x_names.append('c'+ str(k))\n",
    "\n",
    "x_names.append('data')    \n",
    "x_names.append('data_bc')    \n",
    "\n",
    "x_names.append('day_part')\n",
    "x_names.append('day')\n",
    "x_names.append('month')\n",
    "x_names.append('weekday')\n",
    "\n",
    "for k in range(1, Khist + 1):\n",
    "    x_names.append('data_history_' + str(k))\n",
    "            \n",
    "test_from = pd.to_datetime('2016-04-30 23:00:00')\n",
    "test_to = pd.to_datetime('2016-05-31 17:00:00')\n"
   ]
  },
  {
   "cell_type": "markdown",
   "metadata": {},
   "source": [
    "Подбираем learning rate"
   ]
  },
  {
   "cell_type": "code",
   "execution_count": 27,
   "metadata": {},
   "outputs": [
    {
     "name": "stdout",
     "output_type": "stream",
     "text": [
      "shift 1 learning_rate is  0.21 MAE 18.924788258398273\n",
      "shift 1 learning_rate is  0.21693877551020407 MAE 19.024596362192284\n",
      "shift 1 learning_rate is  0.22387755102040816 MAE 18.99453378957293\n",
      "shift 1 learning_rate is  0.23081632653061224 MAE 18.975460999990823\n",
      "shift 1 learning_rate is  0.23775510204081632 MAE 18.960811511929897\n",
      "shift 1 learning_rate is  0.2446938775510204 MAE 18.96925106076007\n",
      "shift 1 learning_rate is  0.2516326530612245 MAE 19.088149951992655\n",
      "shift 1 learning_rate is  0.25857142857142856 MAE 19.018633657915903\n",
      "shift 1 learning_rate is  0.2655102040816327 MAE 18.941503607742682\n",
      "shift 1 learning_rate is  0.2724489795918367 MAE 18.93504491527714\n",
      "shift 1 learning_rate is  0.27938775510204084 MAE 19.09248414218146\n",
      "shift 1 learning_rate is  0.2863265306122449 MAE 19.120767429231027\n",
      "shift 1 learning_rate is  0.293265306122449 MAE 19.10786899325132\n",
      "shift 1 learning_rate is  0.3002040816326531 MAE 19.067335570075453\n",
      "shift 1 learning_rate is  0.30714285714285716 MAE 18.998717593687783\n",
      "shift 1 learning_rate is  0.3140816326530612 MAE 19.13831581168685\n",
      "shift 1 learning_rate is  0.3210204081632653 MAE 19.07241112038783\n",
      "shift 1 learning_rate is  0.32795918367346943 MAE 19.11349933457726\n",
      "shift 1 learning_rate is  0.3348979591836735 MAE 19.030549453454753\n",
      "shift 1 learning_rate is  0.34183673469387754 MAE 18.91901688493357\n",
      "shift 1 learning_rate is  0.34877551020408165 MAE 18.951556947161453\n",
      "shift 1 learning_rate is  0.35571428571428576 MAE 19.087665532690785\n",
      "shift 1 learning_rate is  0.3626530612244898 MAE 18.89637190980821\n",
      "shift 1 learning_rate is  0.36959183673469387 MAE 18.815764894813615\n",
      "shift 1 learning_rate is  0.37653061224489803 MAE 18.83931809485974\n",
      "shift 1 learning_rate is  0.3834693877551021 MAE 19.001547766677856\n",
      "shift 1 learning_rate is  0.39040816326530614 MAE 18.90560370311151\n",
      "shift 1 learning_rate is  0.39734693877551025 MAE 18.802029789602337\n",
      "shift 1 learning_rate is  0.40428571428571436 MAE 18.810348356790012\n",
      "shift 1 learning_rate is  0.4112244897959184 MAE 18.935082396920798\n",
      "shift 1 learning_rate is  0.41816326530612247 MAE 18.71984521852429\n",
      "shift 1 learning_rate is  0.4251020408163266 MAE 18.999529748156334\n",
      "shift 1 learning_rate is  0.4320408163265307 MAE 18.953231010557456\n",
      "shift 1 learning_rate is  0.43897959183673474 MAE 18.88937506567997\n",
      "shift 1 learning_rate is  0.4459183673469388 MAE 19.03767665769981\n",
      "shift 1 learning_rate is  0.4528571428571429 MAE 18.918676114378233\n",
      "shift 1 learning_rate is  0.459795918367347 MAE 18.806883070927785\n",
      "shift 1 learning_rate is  0.46673469387755107 MAE 19.08324719874562\n",
      "shift 1 learning_rate is  0.4736734693877551 MAE 18.892182785014104\n",
      "shift 1 learning_rate is  0.4806122448979593 MAE 18.988708941589405\n",
      "shift 1 learning_rate is  0.48755102040816334 MAE 18.8012812364982\n",
      "shift 1 learning_rate is  0.4944897959183674 MAE 19.004307383125937\n",
      "shift 1 learning_rate is  0.5014285714285714 MAE 19.04084003086821\n",
      "shift 1 learning_rate is  0.5083673469387756 MAE 18.938436838425908\n",
      "shift 1 learning_rate is  0.5153061224489797 MAE 18.823534327383356\n",
      "shift 1 learning_rate is  0.5222448979591837 MAE 18.933240006514048\n",
      "shift 1 learning_rate is  0.5291836734693878 MAE 18.92053109130467\n",
      "shift 1 learning_rate is  0.5361224489795919 MAE 18.925586699111005\n",
      "shift 1 learning_rate is  0.543061224489796 MAE 18.75937757209351\n",
      "shift 1 learning_rate is  0.55 MAE 18.809385156480595\n",
      "shift 1 best learning_rate is  0.41816326530612247 MAE 18.71984521852429\n",
      "shift 2 learning_rate is  0.21 MAE 23.17773379185769\n",
      "shift 2 learning_rate is  0.21693877551020407 MAE 23.08857876826884\n",
      "shift 2 learning_rate is  0.22387755102040816 MAE 23.30052745832713\n",
      "shift 2 learning_rate is  0.23081632653061224 MAE 23.311967591643523\n",
      "shift 2 learning_rate is  0.23775510204081632 MAE 23.35043415522097\n",
      "shift 2 learning_rate is  0.2446938775510204 MAE 23.3031411406\n",
      "shift 2 learning_rate is  0.2516326530612245 MAE 23.421361009560204\n",
      "shift 2 learning_rate is  0.25857142857142856 MAE 23.153075251626984\n",
      "shift 2 learning_rate is  0.2655102040816327 MAE 23.3984255597864\n",
      "shift 2 learning_rate is  0.2724489795918367 MAE 23.47048928281682\n",
      "shift 2 learning_rate is  0.27938775510204084 MAE 23.147650518142637\n",
      "shift 2 learning_rate is  0.2863265306122449 MAE 23.07633837291525\n",
      "shift 2 learning_rate is  0.293265306122449 MAE 23.25667220237011\n",
      "shift 2 learning_rate is  0.3002040816326531 MAE 23.343587638261848\n",
      "shift 2 learning_rate is  0.30714285714285716 MAE 23.59336175448862\n",
      "shift 2 learning_rate is  0.3140816326530612 MAE 23.194198008985005\n",
      "shift 2 learning_rate is  0.3210204081632653 MAE 23.42290589640689\n",
      "shift 2 learning_rate is  0.32795918367346943 MAE 23.500864857182425\n",
      "shift 2 learning_rate is  0.3348979591836735 MAE 23.17847211679\n",
      "shift 2 learning_rate is  0.34183673469387754 MAE 23.142729565744762\n",
      "shift 2 learning_rate is  0.34877551020408165 MAE 23.471028240914272\n",
      "shift 2 learning_rate is  0.35571428571428576 MAE 23.23729754290739\n",
      "shift 2 learning_rate is  0.3626530612244898 MAE 23.39301903883148\n",
      "shift 2 learning_rate is  0.36959183673469387 MAE 23.578957124979166\n",
      "shift 2 learning_rate is  0.37653061224489803 MAE 23.54457974306866\n",
      "shift 2 learning_rate is  0.3834693877551021 MAE 23.408093296676796\n",
      "shift 2 learning_rate is  0.39040816326530614 MAE 23.407447217381872\n",
      "shift 2 learning_rate is  0.39734693877551025 MAE 23.602313990987728\n",
      "shift 2 learning_rate is  0.40428571428571436 MAE 23.424089975854542\n",
      "shift 2 learning_rate is  0.4112244897959184 MAE 23.197412991511328\n",
      "shift 2 learning_rate is  0.41816326530612247 MAE 23.286507241584662\n",
      "shift 2 learning_rate is  0.4251020408163266 MAE 23.5530122336795\n",
      "shift 2 learning_rate is  0.4320408163265307 MAE 23.43258630927495\n",
      "shift 2 learning_rate is  0.43897959183673474 MAE 23.681519837590535\n",
      "shift 2 learning_rate is  0.4459183673469388 MAE 23.744959336895953\n",
      "shift 2 learning_rate is  0.4528571428571429 MAE 23.33928133375873\n",
      "shift 2 learning_rate is  0.459795918367347 MAE 23.405721846776082\n",
      "shift 2 learning_rate is  0.46673469387755107 MAE 23.432129076849296\n",
      "shift 2 learning_rate is  0.4736734693877551 MAE 23.47206173491709\n",
      "shift 2 learning_rate is  0.4806122448979593 MAE 23.67137544531325\n",
      "shift 2 learning_rate is  0.48755102040816334 MAE 23.478228224861738\n",
      "shift 2 learning_rate is  0.4944897959183674 MAE 23.77337455472633\n",
      "shift 2 learning_rate is  0.5014285714285714 MAE 23.35370111788117\n",
      "shift 2 learning_rate is  0.5083673469387756 MAE 23.76528616607333\n",
      "shift 2 learning_rate is  0.5153061224489797 MAE 23.448167307914836\n",
      "shift 2 learning_rate is  0.5222448979591837 MAE 23.079795012463798\n",
      "shift 2 learning_rate is  0.5291836734693878 MAE 23.474095196673282\n",
      "shift 2 learning_rate is  0.5361224489795919 MAE 23.795737875092183\n",
      "shift 2 learning_rate is  0.543061224489796 MAE 23.54240577857394\n",
      "shift 2 learning_rate is  0.55 MAE 23.519504004144217\n",
      "shift 2 best learning_rate is  0.2863265306122449 MAE 23.07633837291525\n",
      "shift 3 learning_rate is  0.21 MAE 25.08558756150336\n",
      "shift 3 learning_rate is  0.21693877551020407 MAE 25.016210100309518\n",
      "shift 3 learning_rate is  0.22387755102040816 MAE 24.772832210885312\n",
      "shift 3 learning_rate is  0.23081632653061224 MAE 24.845460645367968\n",
      "shift 3 learning_rate is  0.23775510204081632 MAE 24.82941867447906\n",
      "shift 3 learning_rate is  0.2446938775510204 MAE 25.11932818520744\n",
      "shift 3 learning_rate is  0.2516326530612245 MAE 24.83919627493965\n",
      "shift 3 learning_rate is  0.25857142857142856 MAE 24.973636872030355\n",
      "shift 3 learning_rate is  0.2655102040816327 MAE 24.8667992876002\n",
      "shift 3 learning_rate is  0.2724489795918367 MAE 24.91067037317277\n",
      "shift 3 learning_rate is  0.27938775510204084 MAE 24.99788457251303\n",
      "shift 3 learning_rate is  0.2863265306122449 MAE 24.62343324874817\n",
      "shift 3 learning_rate is  0.293265306122449 MAE 24.71351265431695\n",
      "shift 3 learning_rate is  0.3002040816326531 MAE 24.54881308565919\n",
      "shift 3 learning_rate is  0.30714285714285716 MAE 24.88564502630446\n",
      "shift 3 learning_rate is  0.3140816326530612 MAE 24.81615707516977\n",
      "shift 3 learning_rate is  0.3210204081632653 MAE 24.7567063301158\n",
      "shift 3 learning_rate is  0.32795918367346943 MAE 24.74205417029751\n",
      "shift 3 learning_rate is  0.3348979591836735 MAE 24.834039144202745\n",
      "shift 3 learning_rate is  0.34183673469387754 MAE 24.857280584202396\n"
     ]
    },
    {
     "name": "stdout",
     "output_type": "stream",
     "text": [
      "shift 3 learning_rate is  0.34877551020408165 MAE 24.742985196562444\n",
      "shift 3 learning_rate is  0.35571428571428576 MAE 24.776601857594724\n",
      "shift 3 learning_rate is  0.3626530612244898 MAE 24.898543561991747\n",
      "shift 3 learning_rate is  0.36959183673469387 MAE 24.780759178872398\n",
      "shift 3 learning_rate is  0.37653061224489803 MAE 24.745785319255024\n",
      "shift 3 learning_rate is  0.3834693877551021 MAE 25.022777437453275\n",
      "shift 3 learning_rate is  0.39040816326530614 MAE 24.79157634534529\n",
      "shift 3 learning_rate is  0.39734693877551025 MAE 25.02523628989969\n",
      "shift 3 learning_rate is  0.40428571428571436 MAE 24.787421067348177\n",
      "shift 3 learning_rate is  0.4112244897959184 MAE 24.82720225259273\n",
      "shift 3 learning_rate is  0.41816326530612247 MAE 24.960000637837165\n",
      "shift 3 learning_rate is  0.4251020408163266 MAE 24.87435277031242\n",
      "shift 3 learning_rate is  0.4320408163265307 MAE 24.75975932830121\n",
      "shift 3 learning_rate is  0.43897959183673474 MAE 25.017059809261834\n",
      "shift 3 learning_rate is  0.4459183673469388 MAE 25.18793491903214\n",
      "shift 3 learning_rate is  0.4528571428571429 MAE 24.764184620282887\n",
      "shift 3 learning_rate is  0.459795918367347 MAE 25.080207750534917\n",
      "shift 3 learning_rate is  0.46673469387755107 MAE 25.058776966152642\n",
      "shift 3 learning_rate is  0.4736734693877551 MAE 25.374911642431368\n",
      "shift 3 learning_rate is  0.4806122448979593 MAE 25.350135449961666\n",
      "shift 3 learning_rate is  0.48755102040816334 MAE 24.8006717799424\n",
      "shift 3 learning_rate is  0.4944897959183674 MAE 25.180409650738135\n",
      "shift 3 learning_rate is  0.5014285714285714 MAE 24.949845516454964\n",
      "shift 3 learning_rate is  0.5083673469387756 MAE 25.08010475482646\n",
      "shift 3 learning_rate is  0.5153061224489797 MAE 25.07740058656033\n",
      "shift 3 learning_rate is  0.5222448979591837 MAE 25.10913062474843\n",
      "shift 3 learning_rate is  0.5291836734693878 MAE 24.98950540642532\n",
      "shift 3 learning_rate is  0.5361224489795919 MAE 25.087487531804598\n",
      "shift 3 learning_rate is  0.543061224489796 MAE 24.94802129832367\n",
      "shift 3 learning_rate is  0.55 MAE 25.480699715878917\n",
      "shift 3 best learning_rate is  0.3002040816326531 MAE 24.54881308565919\n",
      "shift 4 learning_rate is  0.21 MAE 25.63738449703825\n",
      "shift 4 learning_rate is  0.21693877551020407 MAE 25.50100000746094\n",
      "shift 4 learning_rate is  0.22387755102040816 MAE 25.7702407926956\n",
      "shift 4 learning_rate is  0.23081632653061224 MAE 25.607069120274435\n",
      "shift 4 learning_rate is  0.23775510204081632 MAE 25.706315302529593\n",
      "shift 4 learning_rate is  0.2446938775510204 MAE 25.664294828127108\n",
      "shift 4 learning_rate is  0.2516326530612245 MAE 25.526944967703535\n",
      "shift 4 learning_rate is  0.25857142857142856 MAE 25.574305214678738\n",
      "shift 4 learning_rate is  0.2655102040816327 MAE 25.51269342509233\n",
      "shift 4 learning_rate is  0.2724489795918367 MAE 25.540097198627016\n",
      "shift 4 learning_rate is  0.27938775510204084 MAE 25.69611509983957\n",
      "shift 4 learning_rate is  0.2863265306122449 MAE 25.703438567297685\n",
      "shift 4 learning_rate is  0.293265306122449 MAE 25.635059419413185\n",
      "shift 4 learning_rate is  0.3002040816326531 MAE 25.57521352178975\n",
      "shift 4 learning_rate is  0.30714285714285716 MAE 25.377633314690925\n",
      "shift 4 learning_rate is  0.3140816326530612 MAE 25.37864703294952\n",
      "shift 4 learning_rate is  0.3210204081632653 MAE 25.81856994252046\n",
      "shift 4 learning_rate is  0.32795918367346943 MAE 25.55322877531306\n",
      "shift 4 learning_rate is  0.3348979591836735 MAE 25.64753846274919\n",
      "shift 4 learning_rate is  0.34183673469387754 MAE 25.48305925238132\n",
      "shift 4 learning_rate is  0.34877551020408165 MAE 25.69715178691978\n",
      "shift 4 learning_rate is  0.35571428571428576 MAE 25.402882376380266\n",
      "shift 4 learning_rate is  0.3626530612244898 MAE 25.70707239990239\n",
      "shift 4 learning_rate is  0.36959183673469387 MAE 25.453840142904966\n",
      "shift 4 learning_rate is  0.37653061224489803 MAE 25.30475856150826\n",
      "shift 4 learning_rate is  0.3834693877551021 MAE 25.694002801033836\n",
      "shift 4 learning_rate is  0.39040816326530614 MAE 25.786008098282878\n",
      "shift 4 learning_rate is  0.39734693877551025 MAE 25.732030801920434\n",
      "shift 4 learning_rate is  0.40428571428571436 MAE 26.013324837391234\n",
      "shift 4 learning_rate is  0.4112244897959184 MAE 25.460947585774786\n",
      "shift 4 learning_rate is  0.41816326530612247 MAE 25.728311236809493\n",
      "shift 4 learning_rate is  0.4251020408163266 MAE 26.070755705486867\n",
      "shift 4 learning_rate is  0.4320408163265307 MAE 25.95627203017466\n",
      "shift 4 learning_rate is  0.43897959183673474 MAE 25.775220090783268\n",
      "shift 4 learning_rate is  0.4459183673469388 MAE 25.633040043979012\n",
      "shift 4 learning_rate is  0.4528571428571429 MAE 25.66738240523694\n",
      "shift 4 learning_rate is  0.459795918367347 MAE 25.432534784298028\n",
      "shift 4 learning_rate is  0.46673469387755107 MAE 25.687921638834908\n",
      "shift 4 learning_rate is  0.4736734693877551 MAE 25.701466103689775\n",
      "shift 4 learning_rate is  0.4806122448979593 MAE 25.81462740725355\n",
      "shift 4 learning_rate is  0.48755102040816334 MAE 26.324537382035885\n",
      "shift 4 learning_rate is  0.4944897959183674 MAE 25.811943154060998\n",
      "shift 4 learning_rate is  0.5014285714285714 MAE 25.56445295451971\n",
      "shift 4 learning_rate is  0.5083673469387756 MAE 25.557669361521352\n",
      "shift 4 learning_rate is  0.5153061224489797 MAE 25.436755827535585\n",
      "shift 4 learning_rate is  0.5222448979591837 MAE 25.694335818621635\n",
      "shift 4 learning_rate is  0.5291836734693878 MAE 25.51220036157462\n",
      "shift 4 learning_rate is  0.5361224489795919 MAE 25.65608781488898\n",
      "shift 4 learning_rate is  0.543061224489796 MAE 25.466142594418532\n",
      "shift 4 learning_rate is  0.55 MAE 25.73690334178867\n",
      "shift 4 best learning_rate is  0.37653061224489803 MAE 25.30475856150826\n",
      "shift 5 learning_rate is  0.21 MAE 26.07582316536186\n",
      "shift 5 learning_rate is  0.21693877551020407 MAE 26.027965001344597\n",
      "shift 5 learning_rate is  0.22387755102040816 MAE 26.02797105581105\n",
      "shift 5 learning_rate is  0.23081632653061224 MAE 25.786451413639963\n",
      "shift 5 learning_rate is  0.23775510204081632 MAE 26.144558772631342\n",
      "shift 5 learning_rate is  0.2446938775510204 MAE 25.994135008997517\n",
      "shift 5 learning_rate is  0.2516326530612245 MAE 25.88393412545644\n",
      "shift 5 learning_rate is  0.25857142857142856 MAE 25.902255458925364\n",
      "shift 5 learning_rate is  0.2655102040816327 MAE 25.810387621935302\n",
      "shift 5 learning_rate is  0.2724489795918367 MAE 26.176616173368924\n",
      "shift 5 learning_rate is  0.27938775510204084 MAE 26.004239706045446\n",
      "shift 5 learning_rate is  0.2863265306122449 MAE 25.93869165415557\n",
      "shift 5 learning_rate is  0.293265306122449 MAE 25.909140873689605\n",
      "shift 5 learning_rate is  0.3002040816326531 MAE 25.788871418983327\n",
      "shift 5 learning_rate is  0.30714285714285716 MAE 26.122460099874925\n",
      "shift 5 learning_rate is  0.3140816326530612 MAE 26.039427951614826\n",
      "shift 5 learning_rate is  0.3210204081632653 MAE 25.959173838683803\n",
      "shift 5 learning_rate is  0.32795918367346943 MAE 25.728969392305697\n",
      "shift 5 learning_rate is  0.3348979591836735 MAE 25.774792880393555\n",
      "shift 5 learning_rate is  0.34183673469387754 MAE 26.075928948767647\n",
      "shift 5 learning_rate is  0.34877551020408165 MAE 25.9945797325683\n",
      "shift 5 learning_rate is  0.35571428571428576 MAE 25.66074322549309\n",
      "shift 5 learning_rate is  0.3626530612244898 MAE 25.85885802084764\n",
      "shift 5 learning_rate is  0.36959183673469387 MAE 25.540276561985568\n",
      "shift 5 learning_rate is  0.37653061224489803 MAE 25.94397425229847\n",
      "shift 5 learning_rate is  0.3834693877551021 MAE 25.969418755609937\n",
      "shift 5 learning_rate is  0.39040816326530614 MAE 25.769109305371234\n",
      "shift 5 learning_rate is  0.39734693877551025 MAE 25.748050650510404\n",
      "shift 5 learning_rate is  0.40428571428571436 MAE 25.949431797216175\n",
      "shift 5 learning_rate is  0.4112244897959184 MAE 25.883465247567525\n",
      "shift 5 learning_rate is  0.41816326530612247 MAE 26.070250931887937\n",
      "shift 5 learning_rate is  0.4251020408163266 MAE 26.052880178391025\n",
      "shift 5 learning_rate is  0.4320408163265307 MAE 26.283960648314952\n",
      "shift 5 learning_rate is  0.43897959183673474 MAE 25.788627235072248\n",
      "shift 5 learning_rate is  0.4459183673469388 MAE 25.97855887425139\n",
      "shift 5 learning_rate is  0.4528571428571429 MAE 25.71529739998905\n",
      "shift 5 learning_rate is  0.459795918367347 MAE 25.877334016967634\n",
      "shift 5 learning_rate is  0.46673469387755107 MAE 25.767066440450552\n",
      "shift 5 learning_rate is  0.4736734693877551 MAE 25.81311063225461\n",
      "shift 5 learning_rate is  0.4806122448979593 MAE 25.83297460643436\n",
      "shift 5 learning_rate is  0.48755102040816334 MAE 26.214961149461306\n",
      "shift 5 learning_rate is  0.4944897959183674 MAE 26.11996671923066\n",
      "shift 5 learning_rate is  0.5014285714285714 MAE 26.167476525728546\n",
      "shift 5 learning_rate is  0.5083673469387756 MAE 25.92879166574487\n",
      "shift 5 learning_rate is  0.5153061224489797 MAE 25.725617534245767\n",
      "shift 5 learning_rate is  0.5222448979591837 MAE 25.77682811434217\n",
      "shift 5 learning_rate is  0.5291836734693878 MAE 26.673360806706256\n",
      "shift 5 learning_rate is  0.5361224489795919 MAE 25.909634872482222\n",
      "shift 5 learning_rate is  0.543061224489796 MAE 25.94347464557646\n",
      "shift 5 learning_rate is  0.55 MAE 26.236588423928396\n",
      "shift 5 best learning_rate is  0.36959183673469387 MAE 25.540276561985568\n",
      "shift 6 learning_rate is  0.21 MAE 26.33408883260176\n",
      "shift 6 learning_rate is  0.21693877551020407 MAE 26.245566811479094\n",
      "shift 6 learning_rate is  0.22387755102040816 MAE 26.123951113521112\n",
      "shift 6 learning_rate is  0.23081632653061224 MAE 26.188187262537422\n",
      "shift 6 learning_rate is  0.23775510204081632 MAE 26.28748616780246\n",
      "shift 6 learning_rate is  0.2446938775510204 MAE 26.23215184888702\n",
      "shift 6 learning_rate is  0.2516326530612245 MAE 26.42602668395636\n",
      "shift 6 learning_rate is  0.25857142857142856 MAE 26.410161436988687\n",
      "shift 6 learning_rate is  0.2655102040816327 MAE 26.216768164611803\n",
      "shift 6 learning_rate is  0.2724489795918367 MAE 26.176871540221327\n",
      "shift 6 learning_rate is  0.27938775510204084 MAE 26.278644905771337\n",
      "shift 6 learning_rate is  0.2863265306122449 MAE 26.243831220700237\n",
      "shift 6 learning_rate is  0.293265306122449 MAE 25.952783884531943\n",
      "shift 6 learning_rate is  0.3002040816326531 MAE 26.06543241677089\n",
      "shift 6 learning_rate is  0.30714285714285716 MAE 26.242556024025195\n",
      "shift 6 learning_rate is  0.3140816326530612 MAE 26.219987106353212\n",
      "shift 6 learning_rate is  0.3210204081632653 MAE 26.017920211056765\n",
      "shift 6 learning_rate is  0.32795918367346943 MAE 26.442383029394154\n",
      "shift 6 learning_rate is  0.3348979591836735 MAE 26.146140324223808\n",
      "shift 6 learning_rate is  0.34183673469387754 MAE 26.391651542061357\n",
      "shift 6 learning_rate is  0.34877551020408165 MAE 26.23473472390958\n",
      "shift 6 learning_rate is  0.35571428571428576 MAE 25.945653395051142\n",
      "shift 6 learning_rate is  0.3626530612244898 MAE 26.148864823393648\n",
      "shift 6 learning_rate is  0.36959183673469387 MAE 26.28744988250827\n",
      "shift 6 learning_rate is  0.37653061224489803 MAE 26.327028870608675\n",
      "shift 6 learning_rate is  0.3834693877551021 MAE 26.26706378216745\n",
      "shift 6 learning_rate is  0.39040816326530614 MAE 26.34578460632265\n",
      "shift 6 learning_rate is  0.39734693877551025 MAE 26.35226134506306\n",
      "shift 6 learning_rate is  0.40428571428571436 MAE 26.537314744220982\n",
      "shift 6 learning_rate is  0.4112244897959184 MAE 26.323132876220484\n",
      "shift 6 learning_rate is  0.41816326530612247 MAE 26.316774636099012\n",
      "shift 6 learning_rate is  0.4251020408163266 MAE 26.491769668343576\n",
      "shift 6 learning_rate is  0.4320408163265307 MAE 26.46153803856132\n",
      "shift 6 learning_rate is  0.43897959183673474 MAE 26.08903712155328\n",
      "shift 6 learning_rate is  0.4459183673469388 MAE 26.603234340354987\n",
      "shift 6 learning_rate is  0.4528571428571429 MAE 26.456222529509162\n",
      "shift 6 learning_rate is  0.459795918367347 MAE 26.311553821462283\n",
      "shift 6 learning_rate is  0.46673469387755107 MAE 26.299721112787786\n",
      "shift 6 learning_rate is  0.4736734693877551 MAE 26.593096855004127\n",
      "shift 6 learning_rate is  0.4806122448979593 MAE 26.561075272529976\n",
      "shift 6 learning_rate is  0.48755102040816334 MAE 26.465304539717405\n",
      "shift 6 learning_rate is  0.4944897959183674 MAE 25.987179863719074\n",
      "shift 6 learning_rate is  0.5014285714285714 MAE 26.242225888101114\n",
      "shift 6 learning_rate is  0.5083673469387756 MAE 26.298812678730062\n",
      "shift 6 learning_rate is  0.5153061224489797 MAE 26.507611219080566\n",
      "shift 6 learning_rate is  0.5222448979591837 MAE 26.47898744612623\n",
      "shift 6 learning_rate is  0.5291836734693878 MAE 26.186161149754483\n",
      "shift 6 learning_rate is  0.5361224489795919 MAE 26.110601727352247\n",
      "shift 6 learning_rate is  0.543061224489796 MAE 26.377548473463037\n",
      "shift 6 learning_rate is  0.55 MAE 26.423240125556475\n",
      "shift 6 best learning_rate is  0.35571428571428576 MAE 25.945653395051142\n"
     ]
    }
   ],
   "source": [
    "learning_rates = np.linspace(0.21, 0.55, 50)\n",
    "\n",
    "topRates = {}        \n",
    "for shift in range(1, nModels + 1):\n",
    "    bestLearning_rate = 0\n",
    "    bestMae = sys.maxint\n",
    "\n",
    "    for learning_rate in learning_rates:\n",
    "\n",
    "        print 'shift', shift, 'learning_rate is ', learning_rate, \n",
    "        \n",
    "        m = XGBRegressor(#n_jobs=8, \n",
    "                         tree_method='gpu_hist',\n",
    "                         learning_rate=learning_rate)\n",
    "\n",
    "        trainF = allData[train_from : train_to]\n",
    "        fitted = m.fit(trainF[x_names], trainF['target_' + str(shift)])\n",
    "\n",
    "        mae = metrics.mean_absolute_error(allData[test_from : test_to]['target_' + str(shift)],\n",
    "                                          fitted.predict(allData[test_from : test_to][x_names]))\n",
    "        \n",
    "        if mae < bestMae:\n",
    "            bestMae = mae\n",
    "            bestLearning_rate = learning_rate\n",
    "        \n",
    "        print 'MAE',  mae\n",
    "\n",
    "    topRates[shift] = bestLearning_rate\n",
    "    print 'shift', shift, 'best learning_rate is ', bestLearning_rate, 'MAE', bestMae\n"
   ]
  },
  {
   "cell_type": "code",
   "execution_count": 28,
   "metadata": {},
   "outputs": [
    {
     "data": {
      "text/plain": [
       "{1: 0.41816326530612247,\n",
       " 2: 0.2863265306122449,\n",
       " 3: 0.3002040816326531,\n",
       " 4: 0.37653061224489803,\n",
       " 5: 0.36959183673469387,\n",
       " 6: 0.35571428571428576}"
      ]
     },
     "execution_count": 28,
     "metadata": {},
     "output_type": "execute_result"
    }
   ],
   "source": [
    "topRates"
   ]
  },
  {
   "cell_type": "code",
   "execution_count": 7,
   "metadata": {},
   "outputs": [],
   "source": [
    "topRates = {1: 0.41816326530612247,\n",
    " 2: 0.2863265306122449,\n",
    " 3: 0.3002040816326531,\n",
    " 4: 0.37653061224489803,\n",
    " 5: 0.36959183673469387,\n",
    " 6: 0.35571428571428576}"
   ]
  },
  {
   "cell_type": "markdown",
   "metadata": {},
   "source": [
    "Подберем n_estimators"
   ]
  },
  {
   "cell_type": "code",
   "execution_count": 29,
   "metadata": {},
   "outputs": [
    {
     "name": "stdout",
     "output_type": "stream",
     "text": [
      "shift 1 estimator is  100 MAE 18.900434418162554\n",
      "shift 1 estimator is  200 MAE 17.83322728108394\n",
      "shift 1 estimator is  300 MAE 17.250590258158525\n",
      "shift 1 estimator is  400 MAE 16.922877957842623\n",
      "shift 1 best estimator is  400 MAE 16.922877957842623\n",
      "shift 2 estimator is  100 MAE 23.363585709830843\n",
      "shift 2 estimator is  200 MAE 22.051440028749752\n",
      "shift 2 estimator is  300 MAE 21.349268957645158\n",
      "shift 2 estimator is  400 MAE 20.83652849644901\n",
      "shift 2 best estimator is  400 MAE 20.83652849644901\n",
      "shift 3 estimator is  100 MAE 24.885318830423497\n",
      "shift 3 estimator is  200 MAE 23.469912973830642\n",
      "shift 3 estimator is  300 MAE 22.714594982633045\n",
      "shift 3 estimator is  400 MAE 22.209271187177954\n",
      "shift 3 best estimator is  400 MAE 22.209271187177954\n",
      "shift 4 estimator is  100 MAE 25.897806017240733\n",
      "shift 4 estimator is  200 MAE 24.448874907419782\n",
      "shift 4 estimator is  300 MAE 23.72192878486072\n",
      "shift 4 estimator is  400 MAE 23.193369635875786\n",
      "shift 4 best estimator is  400 MAE 23.193369635875786\n",
      "shift 5 estimator is  100 MAE 25.920840439628904\n",
      "shift 5 estimator is  200 MAE 24.447080282126386\n",
      "shift 5 estimator is  300 MAE 23.717529218291727\n",
      "shift 5 estimator is  400 MAE 23.288337804071656\n",
      "shift 5 best estimator is  400 MAE 23.288337804071656\n",
      "shift 6 estimator is  100 MAE 26.69881231095482\n",
      "shift 6 estimator is  200 MAE 24.882399591779514\n",
      "shift 6 estimator is  300 MAE 24.012455017425882\n",
      "shift 6 estimator is  400 MAE 23.534707629745316\n",
      "shift 6 best estimator is  400 MAE 23.534707629745316\n"
     ]
    }
   ],
   "source": [
    "estimators = np.arange(100, 500, 100)\n",
    "\n",
    "topEstimators = {}        \n",
    "for shift in range(1, nModels + 1):\n",
    "    bestEstimator = 0\n",
    "    bestMae = sys.maxint\n",
    "\n",
    "    for estimator in estimators:\n",
    "\n",
    "        print 'shift', shift, 'estimator is ', estimator, \n",
    "        \n",
    "        m = XGBRegressor(#n_jobs=8,\n",
    "                         tree_method='gpu_hist', \n",
    "                         learning_rate=topRates[shift],\n",
    "                         n_estimators = estimator)\n",
    "\n",
    "        trainF = allData[train_from : train_to]\n",
    "        fitted = m.fit(trainF[x_names], trainF['target_' + str(shift)])\n",
    "\n",
    "        mae = metrics.mean_absolute_error(allData[test_from : thttp://localhost:8888/notebooks/Nikolai_L_C6W6.ipynb#est_to]['target_' + str(shift)],\n",
    "                                          fitted.predict(allData[test_from : test_to][x_names]))\n",
    "        \n",
    "        if mae < bestMae:\n",
    "            bestMae = mae\n",
    "            bestEstimator = estimator\n",
    "        \n",
    "        print 'MAE',  mae\n",
    "\n",
    "    topEstimators[shift] = bestEstimator\n",
    "    print 'shift', shift, 'best estimator is ', bestEstimator, 'MAE', bestMae\n",
    "#15.545795647531866"
   ]
  },
  {
   "cell_type": "code",
   "execution_count": 30,
   "metadata": {},
   "outputs": [
    {
     "data": {
      "text/plain": [
       "{1: 400, 2: 400, 3: 400, 4: 400, 5: 400, 6: 400}"
      ]
     },
     "execution_count": 30,
     "metadata": {},
     "output_type": "execute_result"
    }
   ],
   "source": [
    "topEstimators"
   ]
  },
  {
   "cell_type": "code",
   "execution_count": 8,
   "metadata": {},
   "outputs": [],
   "source": [
    "topEstimators = {1: 400, 2: 400, 3: 400, 4: 400, 5: 400, 6: 400}"
   ]
  },
  {
   "cell_type": "markdown",
   "metadata": {},
   "source": [
    "Подберем max_depth"
   ]
  },
  {
   "cell_type": "code",
   "execution_count": 32,
   "metadata": {},
   "outputs": [
    {
     "name": "stdout",
     "output_type": "stream",
     "text": [
      " shift 1 depth is  5 MAE 16.157316477441814\n",
      "shift 1 depth is  6 MAE 16.185746552153343\n",
      "shift 1 depth is  7 MAE 16.147490041742383\n",
      "shift 1 depth is  8 MAE 16.387686240815082\n",
      "shift 1 depth is  9 MAE 16.513622348667766\n",
      "shift 1 depth is  10 MAE 16.479866250964754\n",
      "shift 1 depth is  11 MAE 16.59564050986164\n",
      "shift 1 best depth is  7 MAE 16.147490041742383\n",
      "shift 2 depth is  5 MAE 18.926378187616585\n",
      "shift 2 depth is  6 MAE 18.7547874930902\n",
      "shift 2 depth is  7 MAE 18.382574131802315\n",
      "shift 2 depth is  8 MAE 18.33640459805475\n",
      "shift 2 depth is  9 MAE 18.317950813331876\n",
      "shift 2 depth is  10 MAE 18.296379156103292\n",
      "shift 2 depth is  11 MAE 18.331924700023592\n",
      "shift 2 best depth is  10 MAE 18.296379156103292\n",
      "shift 3 depth is  5 MAE 20.71135648141807\n",
      "shift 3 depth is  6 MAE 20.091156783654206\n",
      "shift 3 depth is  7 MAE 19.759318863596086\n",
      "shift 3 depth is  8 MAE 19.92640789105969\n",
      "shift 3 depth is  9 MAE 19.90241657290269\n",
      "shift 3 depth is  10 MAE 19.64022964161707\n",
      "shift 3 depth is  11 MAE 19.762560654085927\n",
      "shift 3 best depth is  10 MAE 19.64022964161707\n",
      "shift 4 depth is  5 MAE 21.290477814075295\n",
      "shift 4 depth is  6 MAE 21.159287053304805\n",
      "shift 4 depth is  7 MAE 20.947437432635986\n",
      "shift 4 depth is  8 MAE 21.128642675997302\n",
      "shift 4 depth is  9 MAE 20.994496262692035\n",
      "shift 4 depth is  10 MAE 20.883724556316945\n",
      "shift 4 depth is  11 MAE 20.983324498544658\n",
      "shift 4 best depth is  10 MAE 20.883724556316945\n",
      "shift 5 depth is  5 MAE 21.89681992243324\n",
      "shift 5 depth is  6 MAE 21.6282572910878\n",
      "shift 5 depth is  7 MAE 21.49316233280686\n",
      "shift 5 depth is  8 MAE 21.757105957143118\n",
      "shift 5 depth is  9 MAE 21.387763252032528\n",
      "shift 5 depth is  10 MAE 21.28345217986776\n",
      "shift 5 depth is  11 MAE 21.48399680331632\n",
      "shift 5 best depth is  10 MAE 21.28345217986776\n",
      "shift 6 depth is  5 MAE 22.159114366341367\n",
      "shift 6 depth is  6 MAE 21.832437128968454\n",
      "shift 6 depth is  7 MAE 21.899524982393256\n",
      "shift 6 depth is  8 MAE 21.767621479068364\n",
      "shift 6 depth is  9 MAE 21.386711964095248\n",
      "shift 6 depth is  10 MAE 21.410682052406703\n",
      "shift 6 depth is  11 MAE 21.478307231344232\n",
      "shift 6 best depth is  9 MAE 21.386711964095248\n"
     ]
    }
   ],
   "source": [
    "depths = np.arange(5, 12, 1)\n",
    "\n",
    "topDepths = {}        \n",
    "\n",
    "for shift in range(1, nModels + 1):\n",
    "    bestDepth = 0\n",
    "    bestMae = sys.maxint\n",
    "\n",
    "    for depth in depths:\n",
    "\n",
    "        print 'shift', shift, 'depth is ', depth, \n",
    "        \n",
    "        m = XGBRegressor(#n_jobs=8, \n",
    "                         tree_method='gpu_hist', \n",
    "                         learning_rate=topRates[shift],\n",
    "                         n_estimators = topEstimators[shift],\n",
    "                         max_depth = depth)\n",
    "\n",
    "        trainF = allData[train_from : train_to]\n",
    "        fitted = m.fit(trainF[x_names], trainF['target_' + str(shift)])\n",
    "\n",
    "        mae = metrics.mean_absolute_error(allData[test_from : test_to]['target_' + str(shift)],\n",
    "                                          fitted.predict(allData[test_from : test_to][x_names]))\n",
    "        \n",
    "        if mae < bestMae:\n",
    "            bestMae = mae\n",
    "            bestDepth = depth\n",
    "        \n",
    "        print 'MAE',  mae\n",
    "\n",
    "    topDepths[shift] = bestDepth\n",
    "    print 'shift', shift, 'best depth is ', bestDepth, 'MAE', bestMae\n"
   ]
  },
  {
   "cell_type": "code",
   "execution_count": 34,
   "metadata": {},
   "outputs": [
    {
     "data": {
      "text/plain": [
       "{1: 7, 2: 10, 3: 10, 4: 10, 5: 10, 6: 9}"
      ]
     },
     "execution_count": 34,
     "metadata": {},
     "output_type": "execute_result"
    },
    {
     "name": "stdout",
     "output_type": "stream",
     "text": [
      "\n"
     ]
    }
   ],
   "source": [
    "topDepths"
   ]
  },
  {
   "cell_type": "code",
   "execution_count": 9,
   "metadata": {},
   "outputs": [],
   "source": [
    "topDepths = {1: 400, 2: 400, 3: 400, 4: 400, 5: 400, 6: 400}"
   ]
  },
  {
   "cell_type": "markdown",
   "metadata": {},
   "source": [
    "Подберем gamma"
   ]
  },
  {
   "cell_type": "code",
   "execution_count": 35,
   "metadata": {},
   "outputs": [
    {
     "name": "stdout",
     "output_type": "stream",
     "text": [
      "shift 1 gamma is  0 MAE 16.225128123188533\n",
      "shift 1 gamma is  10 MAE 16.22453306922319\n",
      "shift 1 gamma is  20 MAE 16.22512910662524\n",
      "shift 1 gamma is  30 MAE 16.22157826225232\n",
      "shift 1 gamma is  40 MAE 16.224531889042844\n",
      "shift 1 gamma is  50 MAE 16.221578618786587\n",
      "shift 1 gamma is  60 MAE 16.2245318482484\n",
      "shift 1 gamma is  70 MAE 16.221578864897516\n",
      "shift 1 gamma is  80 MAE 16.22157900117065\n",
      "shift 1 gamma is  90 MAE 16.22157927379283\n",
      "shift 1 gamma is  100 MAE 16.23047220754898\n",
      "shift 1 gamma is  110 MAE 16.22157881626562\n",
      "shift 1 gamma is  120 MAE 16.22157845224143\n",
      "shift 1 best gamma is  30 MAE 16.22157826225232\n",
      "shift 2 gamma is  0 MAE 18.327297569788847\n",
      "shift 2 gamma is  10 MAE 18.312218312138796\n",
      "shift 2 gamma is  20 MAE 18.315099372259862\n",
      "shift 2 gamma is  30 MAE 18.30637318142957\n",
      "shift 2 gamma is  40 MAE 18.325102365950173\n",
      "shift 2 gamma is  50 MAE 18.313138681482208\n",
      "shift 2 gamma is  60 MAE 18.32397883105161\n",
      "shift 2 gamma is  70 MAE 18.324181767759338\n",
      "shift 2 gamma is  80 MAE 18.287219475565035\n",
      "shift 2 gamma is  90 MAE 18.321711227203288\n",
      "shift 2 gamma is  100 MAE 18.270765605672157\n",
      "shift 2 gamma is  110 MAE 18.30652188573219\n",
      "shift 2 gamma is  120 MAE 18.281202769059416\n",
      "shift 2 best gamma is  100 MAE 18.270765605672157\n",
      "shift 3 gamma is  0 MAE 19.745191704172363\n",
      "shift 3 gamma is  10 MAE 19.746364155349884\n",
      "shift 3 gamma is  20 MAE 19.74817204449585\n",
      "shift 3 gamma is  30 MAE 19.74142210781432\n",
      "shift 3 gamma is  40 MAE 19.755017207236783\n",
      "shift 3 gamma is  50 MAE 19.757933539076944\n",
      "shift 3 gamma is  60 MAE 19.757933917743724\n",
      "shift 3 gamma is  70 MAE 19.757998780915333\n",
      "shift 3 gamma is  80 MAE 19.75793322751659\n",
      "shift 3 gamma is  90 MAE 19.740845797309124\n",
      "shift 3 gamma is  100 MAE 19.742973515106524\n",
      "shift 3 gamma is  110 MAE 19.756791906236746\n",
      "shift 3 gamma is  120 MAE 19.753913448087975\n",
      "shift 3 best gamma is  90 MAE 19.740845797309124\n",
      "shift 4 gamma is  0 MAE 21.16805984170536\n",
      "shift 4 gamma is  10 MAE 21.170738324999\n",
      "shift 4 gamma is  20 MAE 21.188889074365967\n",
      "shift 4 gamma is  30 MAE 21.19410478383577\n",
      "shift 4 gamma is  40 MAE 21.17193523188209\n",
      "shift 4 gamma is  50 MAE 21.21501528089799\n",
      "shift 4 gamma is  60 MAE 21.18516975908917\n",
      "shift 4 gamma is  70 MAE 21.206549551223794\n",
      "shift 4 gamma is  80 MAE 21.214788996329823\n",
      "shift 4 gamma is  90 MAE 21.202983792747585\n",
      "shift 4 gamma is  100 MAE 21.211305639133286\n",
      "shift 4 gamma is  110 MAE 21.23399247468141\n",
      "shift 4 gamma is  120 MAE 21.176743149841993\n",
      "shift 4 best gamma is  0 MAE 21.16805984170536\n",
      "shift 5 gamma is  0 MAE 21.535478660840127\n",
      "shift 5 gamma is  10 MAE 21.540083507282834\n",
      "shift 5 gamma is  20 MAE 21.544437322634227\n",
      "shift 5 gamma is  30 MAE 21.53853502727035\n",
      "shift 5 gamma is  40 MAE 21.52401075048815\n",
      "shift 5 gamma is  50 MAE 21.53175821882576\n",
      "shift 5 gamma is  60 MAE 21.53356152798919\n",
      "shift 5 gamma is  70 MAE 21.53100580102566\n",
      "shift 5 gamma is  80 MAE 21.536126603687975\n",
      "shift 5 gamma is  90 MAE 21.524792276516376\n",
      "shift 5 gamma is  100 MAE 21.54803970094042\n",
      "shift 5 gamma is  110 MAE 21.525687382679237\n",
      "shift 5 gamma is  120 MAE 21.531579217531146\n",
      "shift 5 best gamma is  40 MAE 21.52401075048815\n",
      "shift 6 gamma is  0 MAE 21.437671664199907\n",
      "shift 6 gamma is  10 MAE 21.46151838201255\n",
      "shift 6 gamma is  20 MAE 21.485121163131293\n",
      "shift 6 gamma is  30 MAE 21.437601493961296\n",
      "shift 6 gamma is  40 MAE 21.456018068490412\n",
      "shift 6 gamma is  50 MAE 21.47663618170047\n",
      "shift 6 gamma is  60 MAE 21.485120147108056\n",
      "shift 6 gamma is  70 MAE 21.48512080973588\n",
      "shift 6 gamma is  80 MAE 21.44949599570403\n",
      "shift 6 gamma is  90 MAE 21.500415248743018\n",
      "shift 6 gamma is  100 MAE 21.46451766427234\n",
      "shift 6 gamma is  110 MAE 21.4376713128454\n",
      "shift 6 gamma is  120 MAE 21.493284419695318\n",
      "shift 6 best gamma is  30 MAE 21.437601493961296\n"
     ]
    }
   ],
   "source": [
    "gammas = np.arange(0, 130, 10)\n",
    "\n",
    "topGammas = {}        \n",
    "\n",
    "for shift in range(1, nModels + 1):\n",
    "    bestGamma = 0\n",
    "    bestMae = sys.maxint\n",
    "\n",
    "    for gamma in gammas:\n",
    "\n",
    "        print 'shift', shift, 'gamma is ', gamma, \n",
    "        \n",
    "        m = XGBRegressor(#n_jobs=8, \n",
    "                         tree_method='gpu_hist', \n",
    "                         learning_rate=topRates[shift],\n",
    "                         n_estimators = topEstimators[shift],\n",
    "                         max_depth = topDepths[shift],\n",
    "                         gamma=gamma)\n",
    "\n",
    "        trainF = allData[train_from : train_to]\n",
    "        fitted = m.fit(trainF[x_names], trainF['target_' + str(shift)])\n",
    "\n",
    "        mae = metrics.mean_absolute_error(allData[test_from : test_to]['target_' + str(shift)],\n",
    "                                          fitted.predict(allData[test_from : test_to][x_names]))\n",
    "        \n",
    "        if mae < bestMae:\n",
    "            bestMae = mae\n",
    "            bestGamma = gamma\n",
    "        \n",
    "        print 'MAE',  mae\n",
    "\n",
    "    topGammas[shift] = bestGamma\n",
    "    print 'shift', shift, 'best gamma is ', bestGamma, 'MAE', bestMae\n"
   ]
  },
  {
   "cell_type": "code",
   "execution_count": 36,
   "metadata": {},
   "outputs": [
    {
     "data": {
      "text/plain": [
       "{1: 30, 2: 100, 3: 90, 4: 0, 5: 40, 6: 30}"
      ]
     },
     "execution_count": 36,
     "metadata": {},
     "output_type": "execute_result"
    }
   ],
   "source": [
    "topGammas"
   ]
  },
  {
   "cell_type": "code",
   "execution_count": 10,
   "metadata": {},
   "outputs": [],
   "source": [
    "topGammas = {1: 30, 2: 100, 3: 90, 4: 0, 5: 40, 6: 30}"
   ]
  },
  {
   "cell_type": "markdown",
   "metadata": {},
   "source": [
    "Подберем subsample"
   ]
  },
  {
   "cell_type": "code",
   "execution_count": null,
   "metadata": {},
   "outputs": [
    {
     "name": "stdout",
     "output_type": "stream",
     "text": [
      "shift 1 ssample is  0.9"
     ]
    }
   ],
   "source": [
    "subsamples = np.linspace(0.9, 1, 10)\n",
    "\n",
    "topSubsamples = {}        \n",
    "topModels = {}   \n",
    "\n",
    "for shift in range(1, nModels + 1):\n",
    "    bestSubsample = 0\n",
    "    bestMae = sys.maxint\n",
    "\n",
    "    for subsample in subsamples:\n",
    "\n",
    "        print 'shift', shift, 'ssample is ', subsample, \n",
    "        \n",
    "        m = XGBRegressor(#n_jobs=8, \n",
    "                         tree_method='gpu_hist', \n",
    "                         learning_rate=topRates[shift],\n",
    "                         n_estimators = topEstimators[shift],\n",
    "                         max_depth = topDepths[shift],\n",
    "                         gamma=topGammas[shift],\n",
    "                         subsample = subsample)\n",
    "\n",
    "        trainF = allData[train_from : train_to]\n",
    "        fitted = m.fit(trainF[x_names], trainF['target_' + str(shift)])\n",
    "\n",
    "        mae = metrics.mean_absolute_error(allData[test_from : test_to]['target_' + str(shift)],\n",
    "                                          fitted.predict(allData[test_from : test_to][x_names]))\n",
    "        \n",
    "        if mae < bestMae:\n",
    "            bestMae = mae\n",
    "            bestSubsample = subsample\n",
    "            topModels[shift] = fitted\n",
    "        print 'MAE',  mae\n",
    "\n",
    "    topSubsamples[shift] = bestSubsample\n",
    "    print 'shift', shift, 'best ssample is ', bestSubsample, 'MAE', bestMae\n"
   ]
  },
  {
   "cell_type": "code",
   "execution_count": 38,
   "metadata": {},
   "outputs": [
    {
     "data": {
      "text/plain": [
       "{1: 0.9894736842105263,\n",
       " 2: 1.0,\n",
       " 3: 0.9947368421052631,\n",
       " 4: 0.968421052631579,\n",
       " 5: 0.9842105263157894,\n",
       " 6: 0.9842105263157894}"
      ]
     },
     "execution_count": 38,
     "metadata": {},
     "output_type": "execute_result"
    }
   ],
   "source": [
    "topSubsamples"
   ]
  },
  {
   "cell_type": "code",
   "execution_count": 11,
   "metadata": {},
   "outputs": [],
   "source": [
    "topSubsamples = {1: 0.9894736842105263,\n",
    " 2: 1.0,\n",
    " 3: 0.9947368421052631,\n",
    " 4: 0.968421052631579,\n",
    " 5: 0.9842105263157894,\n",
    " 6: 0.9842105263157894}"
   ]
  },
  {
   "cell_type": "markdown",
   "metadata": {},
   "source": [
    "Обучим итоговые модели с подобранным параметрами "
   ]
  },
  {
   "cell_type": "code",
   "execution_count": 14,
   "metadata": {},
   "outputs": [
    {
     "name": "stdout",
     "output_type": "stream",
     "text": [
      "shift 1 MAE 17.294633870845388\n",
      "shift 2 MAE 18.849983362054047\n",
      "shift 3 MAE 20.448574746076368\n",
      "shift 4 MAE 21.77659240675474\n",
      "shift 5 MAE 22.060539293350548\n",
      "shift 6 MAE 21.915363930641597\n"
     ]
    }
   ],
   "source": [
    "topModels = {}        \n",
    "\n",
    "for shift in range(1, nModels + 1):\n",
    "\n",
    "    m = XGBRegressor(n_jobs=8, \n",
    "                     #tree_method='gpu_hist', \n",
    "                     learning_rate=topRates[shift],\n",
    "                     n_estimators = topEstimators[shift],\n",
    "                     max_depth = topDepths[shift],\n",
    "                     gamma=topGammas[shift],\n",
    "                     subsample = topSubsamples[shift])\n",
    "\n",
    "    trainF = allData[train_from : train_to]\n",
    "    fitted = m.fit(trainF[x_names], trainF['target_' + str(shift)])\n",
    "\n",
    "    mae = metrics.mean_absolute_error(allData[test_from : test_to]['target_' + str(shift)],\n",
    "                                      fitted.predict(allData[test_from : test_to][x_names]))\n",
    "\n",
    "    topModels[shift] = fitted\n",
    "    \n",
    "    print 'shift', shift, 'MAE', mae\n"
   ]
  },
  {
   "cell_type": "code",
   "execution_count": null,
   "metadata": {},
   "outputs": [],
   "source": []
  },
  {
   "cell_type": "markdown",
   "metadata": {},
   "source": [
    "Метрика за май"
   ]
  },
  {
   "cell_type": "code",
   "execution_count": 15,
   "metadata": {},
   "outputs": [
    {
     "name": "stdout",
     "output_type": "stream",
     "text": [
      "17.294633870845388\n",
      "18.849983362054047\n",
      "20.448574746076368\n",
      "21.77659240675474\n",
      "22.060539293350548\n",
      "21.915363930641597\n"
     ]
    }
   ],
   "source": [
    "totalMay = 0\n",
    "\n",
    "for shift in range(1, nModels + 1):\n",
    "    \n",
    "    fitted = topModels[shift]\n",
    "\n",
    "    mae = metrics.mean_absolute_error(allData[test_from : test_to]['target_' + str(shift)],\n",
    "                                      fitted.predict(allData[test_from : test_to][x_names]))\n",
    "    print mae\n",
    "    totalMay += mae   \n"
   ]
  },
  {
   "cell_type": "code",
   "execution_count": 16,
   "metadata": {},
   "outputs": [
    {
     "name": "stdout",
     "output_type": "stream",
     "text": [
      "20.390947934953783\n"
     ]
    }
   ],
   "source": [
    "Qmay = totalMay / 6\n",
    "print Qmay"
   ]
  },
  {
   "cell_type": "markdown",
   "metadata": {},
   "source": [
    "Предыдущее значение 31.233553749418448. Есть улучшения."
   ]
  },
  {
   "cell_type": "markdown",
   "metadata": {},
   "source": [
    "Обучим модели на данных до конца мая"
   ]
  },
  {
   "cell_type": "code",
   "execution_count": 12,
   "metadata": {},
   "outputs": [
    {
     "name": "stdout",
     "output_type": "stream",
     "text": [
      "shift 1 MAE 16.724215643848556\n",
      "shift 2 MAE 17.879316417873518\n",
      "shift 3 MAE 18.995883797810563\n",
      "shift 4 MAE 20.373902338450623\n",
      "shift 5 MAE 20.688182976086345\n",
      "shift 6 MAE 20.81693647300512\n"
     ]
    }
   ],
   "source": [
    "train_from = pd.to_datetime('2016-01-01 00:00:00')\n",
    "train_to = pd.to_datetime('2016-05-31 17:00:00')\n",
    "\n",
    "test_from = pd.to_datetime('2016-05-31 23:00:00')\n",
    "test_to = pd.to_datetime('2016-06-30 17:00:00')\n",
    "\n",
    "topModels = {}\n",
    "\n",
    "for shift in range(1, nModels + 1):\n",
    "    m = XGBRegressor(n_jobs=8, \n",
    "                     #tree_method='gpu_hist', \n",
    "                     learning_rate=topRates[shift],\n",
    "                     n_estimators = topEstimators[shift],\n",
    "                     max_depth = topDepths[shift],\n",
    "                     gamma=topGammas[shift],\n",
    "                     subsample = topSubsamples[shift])\n",
    "\n",
    "    trainF = allData[train_from : train_to]\n",
    "    fitted = m.fit(trainF[x_names], trainF['target_' + str(shift)])\n",
    "\n",
    "    mae = metrics.mean_absolute_error(allData[test_from : test_to]['target_' + str(shift)],\n",
    "                                      fitted.predict(allData[test_from : test_to][x_names]))\n",
    "\n",
    "    topModels[shift] = fitted\n",
    "    print 'shift', shift, 'MAE', mae\n"
   ]
  },
  {
   "cell_type": "markdown",
   "metadata": {},
   "source": [
    "Метрика за июнь"
   ]
  },
  {
   "cell_type": "code",
   "execution_count": 13,
   "metadata": {},
   "outputs": [
    {
     "name": "stdout",
     "output_type": "stream",
     "text": [
      "16.724215643848556\n",
      "17.879316417873518\n",
      "18.995883797810563\n",
      "20.373902338450623\n",
      "20.688182976086345\n",
      "20.81693647300512\n"
     ]
    }
   ],
   "source": [
    "totalJune = 0\n",
    "\n",
    "for shift in range(1, nModels + 1):\n",
    "    \n",
    "    fitted = topModels[shift]\n",
    "\n",
    "    mae = metrics.mean_absolute_error(allData[test_from : test_to]['target_' + str(shift)],\n",
    "                                      fitted.predict(allData[test_from : test_to][x_names]))\n",
    "    print mae\n",
    "    totalJune += mae   \n"
   ]
  },
  {
   "cell_type": "code",
   "execution_count": 14,
   "metadata": {},
   "outputs": [
    {
     "name": "stdout",
     "output_type": "stream",
     "text": [
      "19.246406274512452\n"
     ]
    }
   ],
   "source": [
    "Qjune = totalJune / 6\n",
    "print Qjune #17.64"
   ]
  },
  {
   "cell_type": "markdown",
   "metadata": {},
   "source": [
    "Предыдущее значение 29.45654190596134. Есть улучшения."
   ]
  },
  {
   "cell_type": "markdown",
   "metadata": {},
   "source": [
    "Запишем результаты в файл"
   ]
  },
  {
   "cell_type": "code",
   "execution_count": 15,
   "metadata": {},
   "outputs": [
    {
     "name": "stdout",
     "output_type": "stream",
     "text": [
      "1075 1076 1077 1125 1126 1127 1128 1129 1130 1131 1132 1172 1173 1174 1175 1176 1177 1178 1179 1180 1181 1182 1183 1184 1221 1222 1223 1224 1225 1227 1228 1229 1230 1231 1232 1233 1234 1235 1272 1273 1274 1278 1279 1280 1281 1282 1283 1284 1285 1286 1287 1326 1327 1331 1332 1333 1334 1335 1336 1337 1338 1339 1376 1377 1378 1380 1382 1383 1384 1385 1386 1387 1388 1389 1390 1426 1431 1434 1435 1436 1437 1438 1439 1441 1442 1480 1482 1483 1530 1532 1533 1580 1630 1684 1733 1734 1783 2068 2069 2118 2119 2168\n"
     ]
    }
   ],
   "source": [
    "junePred = {}\n",
    "for reg in data.region.unique():\n",
    "    #for ix in range(0, 715):\n",
    "    print reg,\n",
    "    regPred = {}\n",
    "    for shift in range(1, nModels + 1):\n",
    "        \n",
    "        fitted = topModels[shift]\n",
    "\n",
    "        pred = fitted.predict(allData[allData.region == reg][test_from:test_to][x_names])  \n",
    "\n",
    "        \n",
    "        regPred[shift] = pred\n",
    "    junePred[reg] = regPred"
   ]
  },
  {
   "cell_type": "code",
   "execution_count": 17,
   "metadata": {},
   "outputs": [
    {
     "name": "stdout",
     "output_type": "stream",
     "text": [
      "2068 2069 1580 1075 1076 1077 2118 2119 1630 1125 1126 1127 1128 1129 1130 1131 1132 2168 1172 1173 1174 1175 1176 1177 1178 1179 1180 1181 1182 1183 1184 1734 1221 1222 1223 1224 1225 1227 1228 1229 1230 1231 1232 1233 1234 1235 1783 1272 1273 1274 1278 1279 1280 1281 1282 1283 1284 1285 1286 1287 1326 1327 1331 1332 1333 1334 1335 1336 1337 1338 1339 1733 1376 1377 1378 1380 1382 1383 1384 1385 1386 1387 1388 1389 1390 1684 1426 1431 1434 1435 1436 1437 1438 1439 1441 1442 1480 1482 1483 1530 1532 1533\n"
     ]
    }
   ],
   "source": [
    "results = []\n",
    "for reg in junePred:\n",
    "    print reg,\n",
    "    regPred = junePred[reg]\n",
    "    for shift in range(1, nModels + 1):\n",
    "        pred = regPred[shift]\n",
    "        for ix in range(0, 715):\n",
    "            tPred = test_from + datetime.timedelta(hours=ix)\n",
    "            pdId = str.format(\"{0}_{1}_{2}_{3}\",reg, tPred.date(), tPred.hour, shift)\n",
    "            results.append((pdId, pred[ix]))\n",
    "    \n"
   ]
  },
  {
   "cell_type": "code",
   "execution_count": 20,
   "metadata": {},
   "outputs": [],
   "source": [
    "juneDf = pd.DataFrame(results)"
   ]
  },
  {
   "cell_type": "code",
   "execution_count": 21,
   "metadata": {},
   "outputs": [],
   "source": [
    "juneDf.to_csv('TaxiData/w6_kaggle.csv',index=False)"
   ]
  },
  {
   "cell_type": "markdown",
   "metadata": {},
   "source": [
    "Ссылка https://www.kaggle.com/submissions/7749080/7749080.zip"
   ]
  },
  {
   "cell_type": "code",
   "execution_count": null,
   "metadata": {},
   "outputs": [],
   "source": []
  }
 ],
 "metadata": {
  "kernelspec": {
   "display_name": "Python 2",
   "language": "python",
   "name": "python2"
  },
  "language_info": {
   "codemirror_mode": {
    "name": "ipython",
    "version": 2
   },
   "file_extension": ".py",
   "mimetype": "text/x-python",
   "name": "python",
   "nbconvert_exporter": "python",
   "pygments_lexer": "ipython2",
   "version": "2.7.15"
  }
 },
 "nbformat": 4,
 "nbformat_minor": 2
}
